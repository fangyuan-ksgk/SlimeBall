{
 "cells": [
  {
   "cell_type": "code",
   "execution_count": 1,
   "metadata": {},
   "outputs": [
    {
     "name": "stdout",
     "output_type": "stream",
     "text": [
      "Number of parameters of the neural net policy: 273\n"
     ]
    },
    {
     "name": "stderr",
     "output_type": "stream",
     "text": [
      "/var/folders/nn/nbsb8w3570zfgs23h2s0cdzm0000gn/T/ipykernel_68048/412992376.py:26: DeprecationWarning: `product` is deprecated as of NumPy 1.25.0, and will be removed in NumPy 2.0. Please use `prod` instead.\n",
      "  curr_policy = Model(games['slimevolleylite'])\n",
      "/var/folders/nn/nbsb8w3570zfgs23h2s0cdzm0000gn/T/ipykernel_68048/412992376.py:27: DeprecationWarning: `product` is deprecated as of NumPy 1.25.0, and will be removed in NumPy 2.0. Please use `prod` instead.\n",
      "  prev_policy = Model(games['slimevolleylite'])\n"
     ]
    }
   ],
   "source": [
    "import json\n",
    "import numpy as np\n",
    "import gym, os\n",
    "import slimevolleygym\n",
    "import slimevolleygym.mlp as mlp\n",
    "from slimevolleygym.mlp import games as games\n",
    "from slimevolleygym.mlp import Model\n",
    "from slimevolleygym import multiagent_rollout as rollout\n",
    "\n",
    "\n",
    "# Settings\n",
    "random_seed = 612\n",
    "population_size = 128\n",
    "total_tournaments = 500000\n",
    "save_freq = 1000\n",
    "\n",
    "\n",
    "# Log results\n",
    "logdir = \"ga_rotation_je\"\n",
    "if not os.path.exists(logdir):\n",
    "  os.makedirs(logdir)\n",
    "\n",
    "def mutate(param, param_count):\n",
    "  return param + np.random.normal(size=param_count) * 0.1\n",
    "\n",
    "curr_policy = Model(games['slimevolleylite'])\n",
    "prev_policy = Model(games['slimevolleylite'])\n",
    "\n",
    "from slimevolleygym import BaselinePolicy   \n",
    "base_policy = BaselinePolicy()\n",
    "\n",
    "param_count = curr_policy.param_count\n",
    "print(\"Number of parameters of the neural net policy:\", param_count) # 273 for slimevolleylite\n",
    "\n",
    "# create the gym environment, and seed it\n",
    "env = gym.make(\"SlimeVolley-v0\")\n",
    "env.seed(random_seed)\n",
    "np.random.seed(random_seed)\n",
    "\n",
    "total_epochs = 100 \n",
    "\n",
    "from jacobian_estimate import estimate_jacobian_entropy\n",
    "\n",
    "step_size = 0.1\n",
    "\n",
    "for epoch in range(1, total_epochs+1):\n",
    "    \n",
    "    def eval_parameter_fitness(params):\n",
    "        curr_policy.set_model_params(params)\n",
    "        score, length = rollout(env, curr_policy, prev_policy)\n",
    "        return score   \n",
    "    \n",
    "    # jacobian_estimate = estimate_jacobian_entropy(eval_parameter_fitness, curr_policy.get_model_params())\n",
    "    break"
   ]
  },
  {
   "cell_type": "code",
   "execution_count": 7,
   "metadata": {},
   "outputs": [
    {
     "data": {
      "text/plain": [
       "10"
      ]
     },
     "execution_count": 7,
     "metadata": {},
     "output_type": "execute_result"
    }
   ],
   "source": [
    "# Implement NEAT mutation gadgets\n",
    "\n",
    "curr_policy.layer_1"
   ]
  },
  {
   "cell_type": "code",
   "execution_count": null,
   "metadata": {},
   "outputs": [],
   "source": [
    "layers = [12, 10, 10, 3] # --> "
   ]
  },
  {
   "cell_type": "code",
   "execution_count": null,
   "metadata": {},
   "outputs": [],
   "source": []
  },
  {
   "cell_type": "code",
   "execution_count": null,
   "metadata": {},
   "outputs": [],
   "source": []
  },
  {
   "cell_type": "code",
   "execution_count": 2,
   "metadata": {},
   "outputs": [
    {
     "name": "stderr",
     "output_type": "stream",
     "text": [
      "/var/folders/nn/nbsb8w3570zfgs23h2s0cdzm0000gn/T/ipykernel_59355/412992376.py:49: DeprecationWarning: `product` is deprecated as of NumPy 1.25.0, and will be removed in NumPy 2.0. Please use `prod` instead.\n",
      "  curr_policy.set_model_params(params)\n"
     ]
    }
   ],
   "source": [
    "from jacobian_estimate import estimate_jacobian_dg\n",
    "\n",
    "jacobian_estimate = estimate_jacobian_dg(eval_parameter_fitness, curr_policy.get_model_params())\n"
   ]
  },
  {
   "cell_type": "code",
   "execution_count": 4,
   "metadata": {},
   "outputs": [
    {
     "data": {
      "text/plain": [
       "array([2., 4.])"
      ]
     },
     "execution_count": 4,
     "metadata": {},
     "output_type": "execute_result"
    }
   ],
   "source": [
    "# test jacobian estimate \n",
    "def f(x):\n",
    "    return x[0]**2 + x[1]**2\n",
    "\n",
    "jacobian_estimate = estimate_jacobian_dg(f, np.array([1, 2]))\n",
    "jacobian_estimate"
   ]
  },
  {
   "cell_type": "code",
   "execution_count": 10,
   "metadata": {},
   "outputs": [
    {
     "name": "stderr",
     "output_type": "stream",
     "text": [
      "/var/folders/nn/nbsb8w3570zfgs23h2s0cdzm0000gn/T/ipykernel_60690/2270115940.py:26: DeprecationWarning: `product` is deprecated as of NumPy 1.25.0, and will be removed in NumPy 2.0. Please use `prod` instead.\n",
      "  curr_policy = Model(games['slimevolleylite'])\n",
      "/var/folders/nn/nbsb8w3570zfgs23h2s0cdzm0000gn/T/ipykernel_60690/2270115940.py:27: DeprecationWarning: `product` is deprecated as of NumPy 1.25.0, and will be removed in NumPy 2.0. Please use `prod` instead.\n",
      "  prev_policy = Model(games['slimevolleylite'])\n"
     ]
    },
    {
     "name": "stdout",
     "output_type": "stream",
     "text": [
      "Number of parameters of the neural net policy: 273\n"
     ]
    },
    {
     "name": "stderr",
     "output_type": "stream",
     "text": [
      "  0%|          | 0/100 [00:00<?, ?it/s]/var/folders/nn/nbsb8w3570zfgs23h2s0cdzm0000gn/T/ipykernel_60690/2270115940.py:50: DeprecationWarning: `product` is deprecated as of NumPy 1.25.0, and will be removed in NumPy 2.0. Please use `prod` instead.\n",
      "  curr_policy.set_model_params(params)\n",
      "  0%|          | 0/100 [00:00<?, ?it/s]\n"
     ]
    }
   ],
   "source": [
    "\n",
    "import json\n",
    "import numpy as np\n",
    "import gym, os\n",
    "import slimevolleygym\n",
    "import slimevolleygym.mlp as mlp\n",
    "from slimevolleygym.mlp import games as games\n",
    "from slimevolleygym.mlp import Model\n",
    "from slimevolleygym import multiagent_rollout as rollout\n",
    "\n",
    "\n",
    "# Settings\n",
    "random_seed = 612\n",
    "population_size = 128\n",
    "total_tournaments = 500000\n",
    "save_freq = 5\n",
    "\n",
    "\n",
    "# Log results\n",
    "logdir = \"ga_rotation_je\"\n",
    "if not os.path.exists(logdir):\n",
    "  os.makedirs(logdir)\n",
    "\n",
    "def mutate(param, param_count):\n",
    "  return param + np.random.normal(size=param_count) * 0.1\n",
    "\n",
    "curr_policy = Model(games['slimevolleylite'])\n",
    "prev_policy = Model(games['slimevolleylite'])\n",
    "\n",
    "from slimevolleygym import BaselinePolicy   \n",
    "base_policy = BaselinePolicy()\n",
    "\n",
    "param_count = curr_policy.param_count\n",
    "print(\"Number of parameters of the neural net policy:\", param_count) # 273 for slimevolleylite\n",
    "\n",
    "# create the gym environment, and seed it\n",
    "env = gym.make(\"SlimeVolley-v0\")\n",
    "env.seed(random_seed)\n",
    "np.random.seed(random_seed)\n",
    "\n",
    "total_epochs = 100 \n",
    "\n",
    "from jacobian_estimate import estimate_jacobian_entropy\n",
    "\n",
    "step_size = 0.1\n",
    "\n",
    "from tqdm import tqdm \n",
    "for epoch in tqdm(range(1, total_epochs+1)):\n",
    "    \n",
    "    def eval_parameter_fitness(params):\n",
    "        curr_policy.set_model_params(params)\n",
    "        score, length = rollout(env, curr_policy, prev_policy)\n",
    "        return score   \n",
    "      \n",
    "    j = estimate_jacobian_entropy(f = eval_parameter_fitness, x=curr_policy.get_model_params(), num_samples=4)\n",
    "    break"
   ]
  },
  {
   "cell_type": "code",
   "execution_count": 11,
   "metadata": {},
   "outputs": [
    {
     "data": {
      "text/plain": [
       "array([ 0.002,  0.031,  0.063, ...,  0.048,  0.065, -0.017])"
      ]
     },
     "execution_count": 11,
     "metadata": {},
     "output_type": "execute_result"
    }
   ],
   "source": [
    "j"
   ]
  },
  {
   "cell_type": "code",
   "execution_count": 12,
   "metadata": {},
   "outputs": [
    {
     "name": "stderr",
     "output_type": "stream",
     "text": [
      "/var/folders/nn/nbsb8w3570zfgs23h2s0cdzm0000gn/T/ipykernel_60690/2270115940.py:50: DeprecationWarning: `product` is deprecated as of NumPy 1.25.0, and will be removed in NumPy 2.0. Please use `prod` instead.\n",
      "  curr_policy.set_model_params(params)\n"
     ]
    },
    {
     "data": {
      "text/plain": [
       "(4, -3)"
      ]
     },
     "execution_count": 12,
     "metadata": {},
     "output_type": "execute_result"
    }
   ],
   "source": [
    "step_size = 0.01\n",
    "positive_p = curr_policy.get_model_params() + j * step_size\n",
    "negative_p = curr_policy.get_model_params() - j * step_size\n",
    "\n",
    "eval_parameter_fitness(positive_p), eval_parameter_fitness(negative_p)"
   ]
  },
  {
   "cell_type": "code",
   "execution_count": 13,
   "metadata": {},
   "outputs": [
    {
     "name": "stderr",
     "output_type": "stream",
     "text": [
      "/var/folders/nn/nbsb8w3570zfgs23h2s0cdzm0000gn/T/ipykernel_60690/2270115940.py:50: DeprecationWarning: `product` is deprecated as of NumPy 1.25.0, and will be removed in NumPy 2.0. Please use `prod` instead.\n",
      "  curr_policy.set_model_params(params)\n"
     ]
    },
    {
     "data": {
      "text/plain": [
       "5"
      ]
     },
     "execution_count": 13,
     "metadata": {},
     "output_type": "execute_result"
    }
   ],
   "source": [
    "eval_parameter_fitness(positive_p)\n"
   ]
  },
  {
   "cell_type": "markdown",
   "metadata": {},
   "source": [
    "####  Add-Node mutation"
   ]
  },
  {
   "cell_type": "code",
   "execution_count": null,
   "metadata": {},
   "outputs": [],
   "source": []
  }
 ],
 "metadata": {
  "kernelspec": {
   "display_name": "volleyball",
   "language": "python",
   "name": "python3"
  },
  "language_info": {
   "codemirror_mode": {
    "name": "ipython",
    "version": 3
   },
   "file_extension": ".py",
   "mimetype": "text/x-python",
   "name": "python",
   "nbconvert_exporter": "python",
   "pygments_lexer": "ipython3",
   "version": "3.9.21"
  }
 },
 "nbformat": 4,
 "nbformat_minor": 2
}
