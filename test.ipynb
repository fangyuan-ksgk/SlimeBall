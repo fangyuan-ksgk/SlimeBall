{
 "cells": [
  {
   "cell_type": "code",
   "execution_count": 1,
   "metadata": {},
   "outputs": [],
   "source": [
    "from fineNeat import loadHyp, updateHyp, load_task, GymTask, games \n",
    "from fineNeat import Neat, Ind, viewInd, fig2img \n",
    "from matplotlib import pyplot as plt \n",
    "from tqdm import tqdm \n",
    "import numpy as np \n",
    "\n",
    "\n",
    "game = games[\"slimevolley\"]\n",
    "task = GymTask(game)\n",
    "\n",
    "hyp_default = 'fineNeat/fineNeat/p/default_sneat.json'\n",
    "hyp_adjust = \"fineNeat/fineNeat/p/volley.json\"\n",
    "fileName = \"volley\"\n",
    "\n",
    "hyp = loadHyp(pFileName=hyp_default, load_task=load_task)\n",
    "updateHyp(hyp,load_task,hyp_adjust)\n",
    "\n",
    "# hyper-parameter adjustment to enable speciation\n",
    "hyp[\"cap_layer\"] = 3\n",
    "hyp[\"spec_thresh\"] = 0.9\n",
    "hyp['spec_target'] = 8\n",
    "hyp['spec_compatMod'] = 0.01\n",
    "hyp['spec_threshMin'] = 0.2\n",
    "neat = Neat(hyp)"
   ]
  },
  {
   "cell_type": "markdown",
   "metadata": {},
   "source": [
    "#### Population TestBed "
   ]
  },
  {
   "cell_type": "code",
   "execution_count": 4,
   "metadata": {},
   "outputs": [
    {
     "name": "stderr",
     "output_type": "stream",
     "text": [
      " 11%|█         | 11/100 [00:20<03:33,  2.40s/it]"
     ]
    },
    {
     "name": "stdout",
     "output_type": "stream",
     "text": [
      " :: Cycle detected in neural network. Unprocessed nodes: {16, 21}\n",
      ":: Failed to express child\n"
     ]
    },
    {
     "name": "stderr",
     "output_type": "stream",
     "text": [
      " 14%|█▍        | 14/100 [00:28<03:43,  2.59s/it]"
     ]
    },
    {
     "name": "stdout",
     "output_type": "stream",
     "text": [
      " :: Cycle detected in neural network. Unprocessed nodes: {16, 22}\n",
      ":: Failed to express child\n",
      " :: Cycle detected in neural network. Unprocessed nodes: {16, 22}\n",
      ":: Failed to express child\n"
     ]
    },
    {
     "name": "stderr",
     "output_type": "stream",
     "text": [
      " 21%|██        | 21/100 [00:45<03:14,  2.46s/it]"
     ]
    }
   ],
   "source": [
    "neat.initPop() # fixed naive input-output topology + random weight / on & off \n",
    "\n",
    "pop_frames = []\n",
    "test_loops = 100\n",
    "for test_iter in tqdm(range(test_loops)): \n",
    "    curr_pop = neat.ask() # ask \n",
    "    grid_img = neat.printSpecies(neat.species, mute=True) # ask : visualize current population species \n",
    "    reward = np.random.rand(len(curr_pop)) # assign random reward values \n",
    "    neat.tell(reward) # tell : assign fitness to current population \n",
    "    pop_frames.append(grid_img)\n",
    "\n",
    "pop_frames[0].save(\"neatspecies.gif\", save_all=True, append_images=pop_frames[1:], duration=100, loop=0) # save frames to gif"
   ]
  },
  {
   "cell_type": "code",
   "execution_count": null,
   "metadata": {},
   "outputs": [],
   "source": []
  },
  {
   "cell_type": "code",
   "execution_count": null,
   "metadata": {},
   "outputs": [],
   "source": []
  },
  {
   "cell_type": "markdown",
   "metadata": {},
   "source": [
    "#### Mutation TestBed "
   ]
  },
  {
   "cell_type": "code",
   "execution_count": 2,
   "metadata": {},
   "outputs": [
    {
     "name": "stderr",
     "output_type": "stream",
     "text": [
      "100%|██████████| 40/40 [00:23<00:00,  1.67it/s]\n"
     ]
    }
   ],
   "source": [
    "from fineNeat import viewInd, fig2img, Ind, check_sparse_issue\n",
    "import matplotlib.pyplot as plt \n",
    "from tqdm import tqdm \n",
    "import numpy as np \n",
    "ind = Ind.from_shapes([[12, 10],[10, 10],[10, 3]])\n",
    "frames = []\n",
    "\n",
    "\n",
    "for i in tqdm(range(40)):\n",
    "\n",
    "    connG, nodeG = np.copy(ind.conn), np.copy(ind.node)\n",
    "    connG[3,:] = 1\n",
    "    \n",
    "    # child, _ = ind.createChild(p=hyp, innov=None, gen=i)\n",
    "    connG, nodeG, _ = ind.mutAddNode(connG, nodeG, gen=1, innov=None, p=hyp)\n",
    "    assert check_sparse_issue(nodeG, connG), \"Sparse issue found after mutAddNode\"\n",
    "    childA = Ind(connG, nodeG)\n",
    "    childA.express() \n",
    "    \n",
    "    connG, nodeG, _ = childA.mutSparsity(p=hyp)\n",
    "    assert check_sparse_issue(nodeG, connG), \"Sparse issue found after mutSparsity\"\n",
    "    \n",
    "    # fine_addnode = Ind(connG, nodeG).express()\n",
    "    # connG, nodeG, _ = ind.mutAddConn(connG, nodeG, gen=1, innov=None)\n",
    "    child = Ind(connG, nodeG)\n",
    "    \n",
    "    \n",
    "    if child.express():\n",
    "        fig, ax = viewInd(child)\n",
    "        frames.append(fig2img(fig))\n",
    "        plt.close(fig)\n",
    "        ind = child\n",
    "    else: \n",
    "        print(\"Failed to express child\")\n",
    "\n",
    "# frames[0].save(\"addSparseNode.gif\", save_all=True, append_images=frames[1:], duration=100, loop=0) # save frames to gif"
   ]
  },
  {
   "cell_type": "code",
   "execution_count": 3,
   "metadata": {},
   "outputs": [],
   "source": [
    "frames[0].save(\"addSparseNode.gif\", save_all=True, append_images=frames[1:], duration=100, loop=0) # save frames to gif"
   ]
  },
  {
   "cell_type": "markdown",
   "metadata": {},
   "source": [
    "#### Population TestBed "
   ]
  },
  {
   "cell_type": "code",
   "execution_count": 8,
   "metadata": {},
   "outputs": [],
   "source": [
    "# Test population \n",
    "from fineNeat import Ind \n",
    "import gym\n",
    "\n",
    "env = gym.make(\"SlimeVolley-v0\")\n",
    "\n",
    "population_size = 20\n",
    "population = [Ind.from_shapes([(game.input_size, 5), (5, game.output_size)]) for _ in range(population_size)]"
   ]
  },
  {
   "cell_type": "code",
   "execution_count": null,
   "metadata": {},
   "outputs": [],
   "source": []
  },
  {
   "cell_type": "code",
   "execution_count": null,
   "metadata": {},
   "outputs": [],
   "source": []
  },
  {
   "cell_type": "code",
   "execution_count": null,
   "metadata": {},
   "outputs": [],
   "source": []
  }
 ],
 "metadata": {
  "kernelspec": {
   "display_name": "volleyball",
   "language": "python",
   "name": "python3"
  },
  "language_info": {
   "codemirror_mode": {
    "name": "ipython",
    "version": 3
   },
   "file_extension": ".py",
   "mimetype": "text/x-python",
   "name": "python",
   "nbconvert_exporter": "python",
   "pygments_lexer": "ipython3",
   "version": "3.9.21"
  }
 },
 "nbformat": 4,
 "nbformat_minor": 2
}
