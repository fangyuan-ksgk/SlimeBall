{
 "cells": [
  {
   "cell_type": "code",
   "execution_count": 1,
   "metadata": {},
   "outputs": [],
   "source": [
    "from fineNeat import loadHyp, updateHyp, load_task, GymTask, games \n",
    "from fineNeat import Neat, Ind, viewInd, fig2img \n",
    "from matplotlib import pyplot as plt \n",
    "from tqdm import tqdm \n",
    "\n",
    "game = games[\"slimevolley\"]\n",
    "task = GymTask(game)\n",
    "\n",
    "hyp_default = 'fineNeat/fineNeat/p/default_sneat.json'\n",
    "hyp_adjust = \"fineNeat/fineNeat/p/volley.json\"\n",
    "fileName = \"volley\"\n",
    "\n",
    "hyp = loadHyp(pFileName=hyp_default, load_task=load_task)\n",
    "updateHyp(hyp,load_task,hyp_adjust)\n",
    "\n",
    "hyp[\"cap_layer\"] = 3\n",
    "neat = Neat(hyp)"
   ]
  },
  {
   "cell_type": "markdown",
   "metadata": {},
   "source": [
    "#### Population TestBed "
   ]
  },
  {
   "cell_type": "code",
   "execution_count": 6,
   "metadata": {},
   "outputs": [
    {
     "name": "stdout",
     "output_type": "stream",
     "text": [
      " :: Total of species:  1\n",
      " :: Species:  0  :: Offspring:  128\n"
     ]
    }
   ],
   "source": [
    "neat = Neat(hyp)\n",
    "\n",
    "neat.initPop() # fixed naive input-output topology + random weight / on & off \n",
    "\n",
    "neat.rankPop() # rank \n",
    "neat.speciate() # speciate  \n",
    "grid_img = neat.printSpecies(neat.species) # visualize \n",
    "neat.evolvePop() # fixed"
   ]
  },
  {
   "cell_type": "markdown",
   "metadata": {},
   "source": [
    "#### Mutation TestBed "
   ]
  },
  {
   "cell_type": "code",
   "execution_count": 30,
   "metadata": {},
   "outputs": [
    {
     "name": "stderr",
     "output_type": "stream",
     "text": [
      "100%|██████████| 100/100 [00:49<00:00,  2.03it/s]\n"
     ]
    }
   ],
   "source": [
    "from fineNeat import viewInd, fig2img, Ind\n",
    "import matplotlib.pyplot as plt \n",
    "from tqdm import tqdm \n",
    "import numpy as np \n",
    "ind = Ind.from_shapes([[12, 10],[10, 10],[10, 3]])\n",
    "frames = []\n",
    "\n",
    "for i in tqdm(range(100)): \n",
    "    connG, nodeG = np.copy(ind.conn), np.copy(ind.node)\n",
    "    connG[3,:] = 1\n",
    "    connG, nodeG, _ = ind.mutSparsity(p=hyp)\n",
    "    fine_sparse = Ind(connG, nodeG).express()\n",
    "    connG, nodeG, _ = ind.mutAddNode(connG, nodeG, gen=1, innov=None, p=hyp) # Bug :: connecting mutSparsity with addNode & addConn is Buggy\n",
    "    fine_addnode = Ind(connG, nodeG).express()\n",
    "    connG, nodeG, _ = ind.mutAddConn(connG, nodeG, gen=1, innov=None)\n",
    "    \n",
    "    child = Ind(connG, nodeG)\n",
    "    if child.express():\n",
    "        fig, ax = viewInd(child)\n",
    "        frames.append(fig2img(fig))\n",
    "        plt.close(fig)\n",
    "        ind = child\n",
    "    else: \n",
    "        print(\"Failed to express child\")\n",
    "\n",
    "frames[0].save(\"addSparseNodeConn.gif\", save_all=True, append_images=frames[1:], duration=100, loop=0) # save frames to gif"
   ]
  },
  {
   "cell_type": "markdown",
   "metadata": {},
   "source": [
    "#### Population TestBed "
   ]
  },
  {
   "cell_type": "code",
   "execution_count": 8,
   "metadata": {},
   "outputs": [],
   "source": [
    "# Test population \n",
    "from fineNeat import Ind \n",
    "import gym\n",
    "\n",
    "env = gym.make(\"SlimeVolley-v0\")\n",
    "\n",
    "population_size = 20\n",
    "population = [Ind.from_shapes([(game.input_size, 5), (5, game.output_size)]) for _ in range(population_size)]"
   ]
  },
  {
   "cell_type": "code",
   "execution_count": null,
   "metadata": {},
   "outputs": [],
   "source": []
  },
  {
   "cell_type": "code",
   "execution_count": null,
   "metadata": {},
   "outputs": [],
   "source": []
  },
  {
   "cell_type": "code",
   "execution_count": null,
   "metadata": {},
   "outputs": [],
   "source": []
  }
 ],
 "metadata": {
  "kernelspec": {
   "display_name": "volleyball",
   "language": "python",
   "name": "python3"
  },
  "language_info": {
   "codemirror_mode": {
    "name": "ipython",
    "version": 3
   },
   "file_extension": ".py",
   "mimetype": "text/x-python",
   "name": "python",
   "nbconvert_exporter": "python",
   "pygments_lexer": "ipython3",
   "version": "3.9.21"
  }
 },
 "nbformat": 4,
 "nbformat_minor": 2
}
