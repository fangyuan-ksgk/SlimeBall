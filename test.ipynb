{
 "cells": [
  {
   "cell_type": "code",
   "execution_count": 5,
   "metadata": {},
   "outputs": [
    {
     "name": "stdout",
     "output_type": "stream",
     "text": [
      "Box([-3.403e+38 -3.403e+38 -3.403e+38 -3.403e+38 -3.403e+38 -3.403e+38 -3.403e+38 -3.403e+38 -3.403e+38 -3.403e+38 -3.403e+38 -3.403e+38], [3.403e+38 3.403e+38 3.403e+38 3.403e+38 3.403e+38 3.403e+38 3.403e+38 3.403e+38 3.403e+38 3.403e+38 3.403e+38 3.403e+38], (12,), float32)\n",
      "(12,)\n"
     ]
    }
   ],
   "source": [
    "import gym \n",
    "import slimevolleygym\n",
    "\n",
    "env = gym.make('SlimeVolley-v0')\n",
    "\n",
    "# Observation Space Printing \n",
    "print(env.observation_space)  # Will show Box space with 12 dimensions\n",
    "print(env.reset().shape) "
   ]
  },
  {
   "cell_type": "code",
   "execution_count": 7,
   "metadata": {},
   "outputs": [],
   "source": [
    "obs, reward, done, info = env.step(env.action_space.sample())"
   ]
  },
  {
   "cell_type": "code",
   "execution_count": 9,
   "metadata": {},
   "outputs": [
    {
     "name": "stdout",
     "output_type": "stream",
     "text": [
      "Obs:  [ 1.2    0.195  0.     1.35   0.     1.2   -0.045  2.463  1.2    0.15   0.     0.   ]\n",
      "Other Obs:  [1.2   0.15  0.    0.    0.    1.2   0.045 2.463 1.2   0.195 0.    1.35 ]\n"
     ]
    }
   ],
   "source": [
    "print(\"Obs: \", obs)\n",
    "print(\"Other Obs: \", info['otherObs'])"
   ]
  },
  {
   "cell_type": "code",
   "execution_count": null,
   "metadata": {},
   "outputs": [],
   "source": []
  }
 ],
 "metadata": {
  "kernelspec": {
   "display_name": "volleyball",
   "language": "python",
   "name": "python3"
  },
  "language_info": {
   "codemirror_mode": {
    "name": "ipython",
    "version": 3
   },
   "file_extension": ".py",
   "mimetype": "text/x-python",
   "name": "python",
   "nbconvert_exporter": "python",
   "pygments_lexer": "ipython3",
   "version": "3.9.21"
  }
 },
 "nbformat": 4,
 "nbformat_minor": 2
}
