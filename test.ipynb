{
 "cells": [
  {
   "cell_type": "code",
   "execution_count": 1,
   "metadata": {},
   "outputs": [],
   "source": [
    "from fineNeat import loadHyp, updateHyp, load_task, GymTask, games \n",
    "from fineNeat import Neat, Ind, viewInd, fig2img \n",
    "from matplotlib import pyplot as plt \n",
    "from tqdm import tqdm \n",
    "import numpy as np \n",
    "\n",
    "\n",
    "game = games[\"slimevolley\"]\n",
    "task = GymTask(game)\n",
    "\n",
    "hyp_default = 'fineNeat/fineNeat/p/default_sneat.json'\n",
    "hyp_adjust = \"fineNeat/fineNeat/p/volley.json\"\n",
    "fileName = \"volley\"\n",
    "\n",
    "hyp = loadHyp(pFileName=hyp_default, load_task=load_task)\n",
    "updateHyp(hyp,load_task,hyp_adjust)\n",
    "\n",
    "# hyper-parameter adjustment to enable speciation\n",
    "hyp[\"cap_layer\"] = 3\n",
    "hyp[\"spec_thresh\"] = 0.9\n",
    "hyp['spec_target'] = 8\n",
    "hyp['spec_compatMod'] = 0.01\n",
    "hyp['spec_threshMin'] = 0.2\n",
    "neat = Neat(hyp)"
   ]
  },
  {
   "cell_type": "markdown",
   "metadata": {},
   "source": [
    "#### Population TestBed "
   ]
  },
  {
   "cell_type": "code",
   "execution_count": 4,
   "metadata": {},
   "outputs": [
    {
     "name": "stderr",
     "output_type": "stream",
     "text": [
      " 11%|█         | 11/100 [00:20<03:33,  2.40s/it]"
     ]
    },
    {
     "name": "stdout",
     "output_type": "stream",
     "text": [
      " :: Cycle detected in neural network. Unprocessed nodes: {16, 21}\n",
      ":: Failed to express child\n"
     ]
    },
    {
     "name": "stderr",
     "output_type": "stream",
     "text": [
      " 14%|█▍        | 14/100 [00:28<03:43,  2.59s/it]"
     ]
    },
    {
     "name": "stdout",
     "output_type": "stream",
     "text": [
      " :: Cycle detected in neural network. Unprocessed nodes: {16, 22}\n",
      ":: Failed to express child\n",
      " :: Cycle detected in neural network. Unprocessed nodes: {16, 22}\n",
      ":: Failed to express child\n"
     ]
    },
    {
     "name": "stderr",
     "output_type": "stream",
     "text": [
      " 29%|██▉       | 29/100 [01:05<02:59,  2.52s/it]"
     ]
    },
    {
     "name": "stdout",
     "output_type": "stream",
     "text": [
      " :: Cycle detected in neural network. Unprocessed nodes: {24, 22}\n",
      ":: Failed to express child\n"
     ]
    },
    {
     "name": "stderr",
     "output_type": "stream",
     "text": [
      " 30%|███       | 30/100 [01:08<02:56,  2.53s/it]"
     ]
    },
    {
     "name": "stdout",
     "output_type": "stream",
     "text": [
      " :: Cycle detected in neural network. Unprocessed nodes: {24, 22}\n",
      ":: Failed to express child\n",
      " :: Cycle detected in neural network. Unprocessed nodes: {24, 22}\n",
      " :: Cycle detected in neural network. Unprocessed nodes: {24, 22}\n",
      ":: Failed to express child\n"
     ]
    },
    {
     "name": "stderr",
     "output_type": "stream",
     "text": [
      " 31%|███       | 31/100 [01:11<03:01,  2.64s/it]"
     ]
    },
    {
     "name": "stdout",
     "output_type": "stream",
     "text": [
      " :: Cycle detected in neural network. Unprocessed nodes: {24, 22}\n",
      ":: Failed to express child\n"
     ]
    },
    {
     "name": "stderr",
     "output_type": "stream",
     "text": [
      " 65%|██████▌   | 65/100 [03:34<03:38,  6.23s/it]"
     ]
    },
    {
     "name": "stdout",
     "output_type": "stream",
     "text": [
      " :: Cycle detected in neural network. Unprocessed nodes: {33, 34, 27, 30}\n",
      ":: Failed to express child\n"
     ]
    },
    {
     "name": "stderr",
     "output_type": "stream",
     "text": [
      " 67%|██████▋   | 67/100 [03:49<03:46,  6.85s/it]"
     ]
    },
    {
     "name": "stdout",
     "output_type": "stream",
     "text": [
      " :: Cycle detected in neural network. Unprocessed nodes: {35, 34, 27, 30}\n",
      ":: Failed to express child\n",
      " :: Cycle detected in neural network. Unprocessed nodes: {33, 34, 27, 30}\n",
      " :: Cycle detected in neural network. Unprocessed nodes: {33, 34, 27, 30}\n",
      ":: Failed to express child\n"
     ]
    },
    {
     "name": "stderr",
     "output_type": "stream",
     "text": [
      " 69%|██████▉   | 69/100 [04:03<03:34,  6.92s/it]"
     ]
    },
    {
     "name": "stdout",
     "output_type": "stream",
     "text": [
      " :: Cycle detected in neural network. Unprocessed nodes: {35, 34, 27, 30}\n",
      ":: Failed to express child\n"
     ]
    },
    {
     "name": "stderr",
     "output_type": "stream",
     "text": [
      " 70%|███████   | 70/100 [04:11<03:42,  7.42s/it]"
     ]
    },
    {
     "name": "stdout",
     "output_type": "stream",
     "text": [
      " :: Cycle detected in neural network. Unprocessed nodes: {35, 36, 13, 27, 30, 31}\n",
      ":: Failed to express child\n",
      " :: Cycle detected in neural network. Unprocessed nodes: {35, 36, 13, 27, 30, 31}\n",
      ":: Failed to express child\n"
     ]
    },
    {
     "name": "stderr",
     "output_type": "stream",
     "text": [
      " 72%|███████▏  | 72/100 [04:27<03:38,  7.80s/it]"
     ]
    },
    {
     "name": "stdout",
     "output_type": "stream",
     "text": [
      " :: Cycle detected in neural network. Unprocessed nodes: {35, 27, 36, 30}\n",
      " :: Cycle detected in neural network. Unprocessed nodes: {35, 27, 36, 30}\n",
      ":: Failed to express child\n",
      " :: Cycle detected in neural network. Unprocessed nodes: {32, 35, 36, 27, 30}\n",
      ":: Failed to express child\n",
      " :: Cycle detected in neural network. Unprocessed nodes: {27, 37, 30}\n",
      ":: Failed to express child\n",
      " :: Cycle detected in neural network. Unprocessed nodes: {33, 34, 27, 30}\n",
      ":: Failed to express child\n",
      " :: Cycle detected in neural network. Unprocessed nodes: {27, 36, 37, 30}\n",
      ":: Failed to express child\n"
     ]
    },
    {
     "name": "stderr",
     "output_type": "stream",
     "text": [
      " 73%|███████▎  | 73/100 [04:36<03:35,  7.99s/it]"
     ]
    },
    {
     "name": "stdout",
     "output_type": "stream",
     "text": [
      " :: Cycle detected in neural network. Unprocessed nodes: {27, 30}\n",
      ":: Failed to express child\n"
     ]
    },
    {
     "name": "stderr",
     "output_type": "stream",
     "text": [
      " 74%|███████▍  | 74/100 [04:45<03:34,  8.26s/it]"
     ]
    },
    {
     "name": "stdout",
     "output_type": "stream",
     "text": [
      " :: Cycle detected in neural network. Unprocessed nodes: {35, 27, 36, 30}\n",
      ":: Failed to express child\n"
     ]
    },
    {
     "name": "stderr",
     "output_type": "stream",
     "text": [
      " 75%|███████▌  | 75/100 [04:57<03:54,  9.37s/it]"
     ]
    },
    {
     "name": "stdout",
     "output_type": "stream",
     "text": [
      " :: Cycle detected in neural network. Unprocessed nodes: {33, 35, 36, 27, 30}\n",
      ":: Failed to express child\n",
      " :: Cycle detected in neural network. Unprocessed nodes: {38, 27, 30, 39}\n",
      ":: Failed to express child\n",
      " :: Cycle detected in neural network. Unprocessed nodes: {35, 34, 27, 30}\n",
      ":: Failed to express child\n",
      " :: Cycle detected in neural network. Unprocessed nodes: {35, 34, 27, 30}\n",
      ":: Failed to express child\n"
     ]
    },
    {
     "name": "stderr",
     "output_type": "stream",
     "text": [
      " 76%|███████▌  | 76/100 [05:06<03:47,  9.47s/it]"
     ]
    },
    {
     "name": "stdout",
     "output_type": "stream",
     "text": [
      " :: Cycle detected in neural network. Unprocessed nodes: {32, 37, 38, 27, 30}\n",
      " :: Cycle detected in neural network. Unprocessed nodes: {32, 37, 38, 27, 30}\n",
      ":: Failed to express child\n"
     ]
    },
    {
     "name": "stderr",
     "output_type": "stream",
     "text": [
      " 78%|███████▊  | 78/100 [05:21<03:04,  8.38s/it]"
     ]
    },
    {
     "name": "stdout",
     "output_type": "stream",
     "text": [
      " :: Cycle detected in neural network. Unprocessed nodes: {32, 37, 38, 27, 30}\n",
      ":: Failed to express child\n"
     ]
    },
    {
     "name": "stderr",
     "output_type": "stream",
     "text": [
      " 79%|███████▉  | 79/100 [05:28<02:43,  7.79s/it]"
     ]
    },
    {
     "name": "stdout",
     "output_type": "stream",
     "text": [
      " :: Cycle detected in neural network. Unprocessed nodes: {32, 38, 27, 30}\n",
      ":: Failed to express child\n",
      " :: Cycle detected in neural network. Unprocessed nodes: {32, 36, 37, 27, 30}\n",
      ":: Failed to express child\n",
      " :: Cycle detected in neural network. Unprocessed nodes: {32, 36, 37, 27, 30}\n",
      ":: Failed to express child\n",
      " :: Cycle detected in neural network. Unprocessed nodes: {32, 37, 38, 27, 30}\n",
      " :: Cycle detected in neural network. Unprocessed nodes: {32, 37, 38, 27, 30}\n",
      ":: Failed to express child\n",
      " :: Cycle detected in neural network. Unprocessed nodes: {32, 36, 37, 27, 30}\n",
      ":: Failed to express child\n",
      " :: Cycle detected in neural network. Unprocessed nodes: {32, 36, 37, 27, 30}\n",
      ":: Failed to express child\n",
      " :: Cycle detected in neural network. Unprocessed nodes: {32, 36, 37, 27, 30}\n",
      ":: Failed to express child\n",
      " :: Cycle detected in neural network. Unprocessed nodes: {32, 37, 38, 27, 30}\n",
      ":: Failed to express child\n",
      " :: Cycle detected in neural network. Unprocessed nodes: {32, 37, 38, 27, 30}\n",
      " :: Cycle detected in neural network. Unprocessed nodes: {32, 37, 38, 27, 30}\n",
      ":: Failed to express child\n",
      " :: Cycle detected in neural network. Unprocessed nodes: {32, 36, 37, 27, 30}\n",
      " :: Cycle detected in neural network. Unprocessed nodes: {32, 36, 37, 27, 30}\n",
      ":: Failed to express child\n"
     ]
    },
    {
     "name": "stderr",
     "output_type": "stream",
     "text": [
      " 80%|████████  | 80/100 [05:35<02:31,  7.59s/it]"
     ]
    },
    {
     "name": "stdout",
     "output_type": "stream",
     "text": [
      " :: Cycle detected in neural network. Unprocessed nodes: {32, 37, 38, 27, 30}\n",
      " :: Cycle detected in neural network. Unprocessed nodes: {32, 37, 38, 27, 30}\n",
      ":: Failed to express child\n",
      " :: Cycle detected in neural network. Unprocessed nodes: {25, 18, 27}\n",
      " :: Cycle detected in neural network. Unprocessed nodes: {25, 18, 27}\n",
      ":: Failed to express child\n"
     ]
    },
    {
     "name": "stderr",
     "output_type": "stream",
     "text": [
      " 81%|████████  | 81/100 [05:42<02:20,  7.41s/it]"
     ]
    },
    {
     "name": "stdout",
     "output_type": "stream",
     "text": [
      " :: Cycle detected in neural network. Unprocessed nodes: {34, 18, 25, 27, 29}\n",
      ":: Failed to express child\n",
      " :: Cycle detected in neural network. Unprocessed nodes: {34, 18, 25, 27, 29}\n",
      ":: Failed to express child\n",
      " :: Cycle detected in neural network. Unprocessed nodes: {25, 18, 27, 33}\n",
      ":: Failed to express child\n",
      " :: Cycle detected in neural network. Unprocessed nodes: {33, 18, 25, 27, 29}\n",
      ":: Failed to express child\n"
     ]
    },
    {
     "name": "stderr",
     "output_type": "stream",
     "text": [
      " 82%|████████▏ | 82/100 [05:48<02:09,  7.19s/it]"
     ]
    },
    {
     "name": "stdout",
     "output_type": "stream",
     "text": [
      " :: Cycle detected in neural network. Unprocessed nodes: {32, 37, 38, 27, 30}\n",
      ":: Failed to express child\n",
      " :: Cycle detected in neural network. Unprocessed nodes: {25, 18, 27, 34}\n",
      ":: Failed to express child\n",
      " :: Cycle detected in neural network. Unprocessed nodes: {25, 18, 27, 35}\n",
      ":: Failed to express child\n",
      " :: Cycle detected in neural network. Unprocessed nodes: {25, 18, 27, 35}\n",
      ":: Failed to express child\n"
     ]
    },
    {
     "name": "stderr",
     "output_type": "stream",
     "text": [
      " 83%|████████▎ | 83/100 [05:55<02:00,  7.08s/it]"
     ]
    },
    {
     "name": "stdout",
     "output_type": "stream",
     "text": [
      " :: Cycle detected in neural network. Unprocessed nodes: {32, 37, 38, 27, 30}\n",
      ":: Failed to express child\n",
      " :: Cycle detected in neural network. Unprocessed nodes: {25, 18, 27, 34}\n",
      ":: Failed to express child\n"
     ]
    },
    {
     "name": "stderr",
     "output_type": "stream",
     "text": [
      " 84%|████████▍ | 84/100 [06:02<01:52,  7.03s/it]"
     ]
    },
    {
     "name": "stdout",
     "output_type": "stream",
     "text": [
      " :: Cycle detected in neural network. Unprocessed nodes: {32, 39, 40, 27, 30}\n",
      ":: Failed to express child\n",
      " :: Cycle detected in neural network. Unprocessed nodes: {32, 38, 39, 27, 30}\n",
      " :: Cycle detected in neural network. Unprocessed nodes: {32, 38, 39, 27, 30}\n",
      ":: Failed to express child\n"
     ]
    },
    {
     "name": "stderr",
     "output_type": "stream",
     "text": [
      " 85%|████████▌ | 85/100 [06:08<01:41,  6.76s/it]"
     ]
    },
    {
     "name": "stdout",
     "output_type": "stream",
     "text": [
      " :: Cycle detected in neural network. Unprocessed nodes: {32, 38, 39, 27, 30}\n",
      ":: Failed to express child\n",
      " :: Cycle detected in neural network. Unprocessed nodes: {32, 36, 39, 27, 30}\n",
      ":: Failed to express child\n",
      " :: Cycle detected in neural network. Unprocessed nodes: {25, 18, 27, 34}\n",
      ":: Failed to express child\n",
      " :: Cycle detected in neural network. Unprocessed nodes: {25, 18, 27, 34}\n",
      ":: Failed to express child\n",
      " :: Cycle detected in neural network. Unprocessed nodes: {34, 18, 25, 27, 29}\n",
      ":: Failed to express child\n"
     ]
    },
    {
     "name": "stderr",
     "output_type": "stream",
     "text": [
      " 86%|████████▌ | 86/100 [06:15<01:35,  6.85s/it]"
     ]
    },
    {
     "name": "stdout",
     "output_type": "stream",
     "text": [
      " :: Cycle detected in neural network. Unprocessed nodes: {32, 39, 40, 27, 30}\n",
      ":: Failed to express child\n",
      " :: Cycle detected in neural network. Unprocessed nodes: {25, 18, 27, 35}\n",
      ":: Failed to express child\n"
     ]
    },
    {
     "name": "stderr",
     "output_type": "stream",
     "text": [
      " 87%|████████▋ | 87/100 [06:22<01:27,  6.74s/it]"
     ]
    },
    {
     "name": "stdout",
     "output_type": "stream",
     "text": [
      " :: Cycle detected in neural network. Unprocessed nodes: {32, 37, 38, 27, 30}\n",
      ":: Failed to express child\n",
      " :: Cycle detected in neural network. Unprocessed nodes: {32, 40, 41, 27, 30}\n",
      ":: Failed to express child\n",
      " :: Cycle detected in neural network. Unprocessed nodes: {32, 40, 41, 27, 30}\n",
      ":: Failed to express child\n",
      " :: Cycle detected in neural network. Unprocessed nodes: {34, 18, 25, 27, 29}\n",
      ":: Failed to express child\n",
      " :: Cycle detected in neural network. Unprocessed nodes: {25, 18, 27, 34}\n",
      ":: Failed to express child\n"
     ]
    },
    {
     "name": "stderr",
     "output_type": "stream",
     "text": [
      " 88%|████████▊ | 88/100 [06:30<01:27,  7.27s/it]"
     ]
    },
    {
     "name": "stdout",
     "output_type": "stream",
     "text": [
      " :: Cycle detected in neural network. Unprocessed nodes: {41, 42, 38}\n",
      ":: Failed to express child\n",
      " :: Cycle detected in neural network. Unprocessed nodes: {32, 40, 41, 27, 30}\n",
      " :: Cycle detected in neural network. Unprocessed nodes: {32, 40, 41, 27, 30}\n",
      ":: Failed to express child\n",
      " :: Cycle detected in neural network. Unprocessed nodes: {32, 37, 38, 27, 30}\n",
      ":: Failed to express child\n"
     ]
    },
    {
     "name": "stderr",
     "output_type": "stream",
     "text": [
      " 89%|████████▉ | 89/100 [06:37<01:18,  7.15s/it]"
     ]
    },
    {
     "name": "stdout",
     "output_type": "stream",
     "text": [
      " :: Cycle detected in neural network. Unprocessed nodes: {41, 42, 38}\n",
      " :: Cycle detected in neural network. Unprocessed nodes: {41, 42, 38}\n",
      ":: Failed to express child\n",
      " :: Cycle detected in neural network. Unprocessed nodes: {32, 43, 27, 30}\n",
      ":: Failed to express child\n",
      " :: Cycle detected in neural network. Unprocessed nodes: {32, 42, 43, 22, 27, 30}\n",
      ":: Failed to express child\n",
      " :: Cycle detected in neural network. Unprocessed nodes: {32, 42, 43, 27, 30}\n",
      ":: Failed to express child\n",
      " :: Cycle detected in neural network. Unprocessed nodes: {35, 18, 25, 27, 29}\n",
      ":: Failed to express child\n"
     ]
    },
    {
     "name": "stderr",
     "output_type": "stream",
     "text": [
      " 90%|█████████ | 90/100 [06:44<01:10,  7.07s/it]"
     ]
    },
    {
     "name": "stdout",
     "output_type": "stream",
     "text": [
      " :: Cycle detected in neural network. Unprocessed nodes: {32, 37, 38, 27, 30}\n",
      ":: Failed to express child\n",
      " :: Cycle detected in neural network. Unprocessed nodes: {32, 33, 37, 38, 27, 30}\n",
      ":: Failed to express child\n",
      " :: Cycle detected in neural network. Unprocessed nodes: {25, 18, 27, 35}\n",
      ":: Failed to express child\n",
      " :: Cycle detected in neural network. Unprocessed nodes: {34, 18, 25, 27, 29}\n",
      ":: Failed to express child\n",
      " :: Cycle detected in neural network. Unprocessed nodes: {34, 18, 25, 27, 29}\n",
      " :: Cycle detected in neural network. Unprocessed nodes: {34, 18, 25, 27, 29}\n",
      ":: Failed to express child\n"
     ]
    },
    {
     "name": "stderr",
     "output_type": "stream",
     "text": [
      " 91%|█████████ | 91/100 [06:50<01:01,  6.84s/it]"
     ]
    },
    {
     "name": "stdout",
     "output_type": "stream",
     "text": [
      " :: Cycle detected in neural network. Unprocessed nodes: {46, 45, 38}\n",
      " :: Cycle detected in neural network. Unprocessed nodes: {46, 45, 38}\n",
      ":: Failed to express child\n",
      " :: Cycle detected in neural network. Unprocessed nodes: {44, 45, 38}\n",
      ":: Failed to express child\n",
      " :: Cycle detected in neural network. Unprocessed nodes: {32, 38, 39, 27, 30}\n",
      ":: Failed to express child\n",
      " :: Cycle detected in neural network. Unprocessed nodes: {34, 18, 25, 27, 29}\n",
      ":: Failed to express child\n",
      " :: Cycle detected in neural network. Unprocessed nodes: {25, 18, 27, 37}\n",
      ":: Failed to express child\n",
      " :: Cycle detected in neural network. Unprocessed nodes: {35, 18, 25, 27, 29}\n",
      ":: Failed to express child\n"
     ]
    },
    {
     "name": "stderr",
     "output_type": "stream",
     "text": [
      " 92%|█████████▏| 92/100 [06:57<00:55,  6.92s/it]"
     ]
    },
    {
     "name": "stdout",
     "output_type": "stream",
     "text": [
      " :: Cycle detected in neural network. Unprocessed nodes: {32, 38, 39, 27, 30}\n",
      ":: Failed to express child\n",
      " :: Cycle detected in neural network. Unprocessed nodes: {32, 27, 30, 39}\n",
      ":: Failed to express child\n",
      " :: Cycle detected in neural network. Unprocessed nodes: {32, 38, 27, 30}\n",
      " :: Cycle detected in neural network. Unprocessed nodes: {32, 38, 27, 30}\n",
      ":: Failed to express child\n",
      " :: Cycle detected in neural network. Unprocessed nodes: {25, 18, 27, 35}\n",
      ":: Failed to express child\n",
      " :: Cycle detected in neural network. Unprocessed nodes: {34, 18, 25, 27, 29}\n",
      ":: Failed to express child\n",
      " :: Cycle detected in neural network. Unprocessed nodes: {35, 18, 25, 27, 29}\n",
      ":: Failed to express child\n",
      " :: Cycle detected in neural network. Unprocessed nodes: {34, 18, 25, 27, 29}\n",
      ":: Failed to express child\n"
     ]
    },
    {
     "name": "stderr",
     "output_type": "stream",
     "text": [
      " 93%|█████████▎| 93/100 [07:04<00:48,  6.91s/it]"
     ]
    },
    {
     "name": "stdout",
     "output_type": "stream",
     "text": [
      " :: Cycle detected in neural network. Unprocessed nodes: {32, 37, 38, 27, 30}\n",
      " :: Cycle detected in neural network. Unprocessed nodes: {32, 37, 38, 27, 30}\n",
      ":: Failed to express child\n",
      " :: Cycle detected in neural network. Unprocessed nodes: {36, 18, 25, 27, 29}\n",
      ":: Failed to express child\n"
     ]
    },
    {
     "name": "stderr",
     "output_type": "stream",
     "text": [
      " 94%|█████████▍| 94/100 [07:11<00:41,  6.86s/it]"
     ]
    },
    {
     "name": "stdout",
     "output_type": "stream",
     "text": [
      " :: Cycle detected in neural network. Unprocessed nodes: {32, 38, 39, 27, 30}\n",
      ":: Failed to express child\n",
      " :: Cycle detected in neural network. Unprocessed nodes: {40, 27, 30, 39}\n",
      ":: Failed to express child\n",
      " :: Cycle detected in neural network. Unprocessed nodes: {25, 18, 27, 36}\n",
      ":: Failed to express child\n"
     ]
    },
    {
     "name": "stderr",
     "output_type": "stream",
     "text": [
      " 95%|█████████▌| 95/100 [07:18<00:34,  6.90s/it]"
     ]
    },
    {
     "name": "stdout",
     "output_type": "stream",
     "text": [
      " :: Cycle detected in neural network. Unprocessed nodes: {36, 38, 39, 27, 30}\n",
      ":: Failed to express child\n"
     ]
    },
    {
     "name": "stderr",
     "output_type": "stream",
     "text": [
      " 96%|█████████▌| 96/100 [07:25<00:27,  6.98s/it]"
     ]
    },
    {
     "name": "stdout",
     "output_type": "stream",
     "text": [
      " :: Cycle detected in neural network. Unprocessed nodes: {32, 38, 39, 27, 30}\n",
      " :: Cycle detected in neural network. Unprocessed nodes: {32, 38, 39, 27, 30}\n",
      ":: Failed to express child\n",
      " :: Cycle detected in neural network. Unprocessed nodes: {38, 27, 37, 30}\n",
      ":: Failed to express child\n",
      " :: Cycle detected in neural network. Unprocessed nodes: {32, 38, 39, 27, 30}\n",
      ":: Failed to express child\n",
      " :: Cycle detected in neural network. Unprocessed nodes: {32, 37, 38, 27, 30}\n",
      " :: Cycle detected in neural network. Unprocessed nodes: {32, 37, 38, 27, 30}\n",
      ":: Failed to express child\n",
      " :: Cycle detected in neural network. Unprocessed nodes: {32, 38, 39, 27, 30}\n",
      ":: Failed to express child\n"
     ]
    },
    {
     "name": "stderr",
     "output_type": "stream",
     "text": [
      " 97%|█████████▋| 97/100 [07:32<00:20,  6.94s/it]"
     ]
    },
    {
     "name": "stdout",
     "output_type": "stream",
     "text": [
      " :: Cycle detected in neural network. Unprocessed nodes: {38, 27, 37, 30}\n",
      ":: Failed to express child\n",
      " :: Cycle detected in neural network. Unprocessed nodes: {32, 37, 38, 27, 30}\n",
      ":: Failed to express child\n"
     ]
    },
    {
     "name": "stderr",
     "output_type": "stream",
     "text": [
      " 98%|█████████▊| 98/100 [07:39<00:14,  7.01s/it]"
     ]
    },
    {
     "name": "stdout",
     "output_type": "stream",
     "text": [
      " :: Cycle detected in neural network. Unprocessed nodes: {40, 27, 30, 39}\n",
      ":: Failed to express child\n",
      " :: Cycle detected in neural network. Unprocessed nodes: {25, 18, 27, 38}\n",
      ":: Failed to express child\n"
     ]
    },
    {
     "name": "stderr",
     "output_type": "stream",
     "text": [
      " 99%|█████████▉| 99/100 [07:46<00:06,  6.95s/it]"
     ]
    },
    {
     "name": "stdout",
     "output_type": "stream",
     "text": [
      " :: Cycle detected in neural network. Unprocessed nodes: {40, 27, 30, 39}\n",
      ":: Failed to express child\n",
      " :: Cycle detected in neural network. Unprocessed nodes: {37, 18, 25, 27, 29}\n",
      ":: Failed to express child\n",
      " :: Cycle detected in neural network. Unprocessed nodes: {37, 18, 25, 27, 29}\n",
      " :: Cycle detected in neural network. Unprocessed nodes: {37, 18, 25, 27, 29}\n",
      ":: Failed to express child\n",
      " :: Cycle detected in neural network. Unprocessed nodes: {37, 18, 25, 27, 29}\n",
      " :: Cycle detected in neural network. Unprocessed nodes: {37, 18, 25, 27, 29}\n",
      ":: Failed to express child\n"
     ]
    },
    {
     "name": "stderr",
     "output_type": "stream",
     "text": [
      "100%|██████████| 100/100 [07:53<00:00,  4.74s/it]\n"
     ]
    }
   ],
   "source": [
    "neat.initPop() # fixed naive input-output topology + random weight / on & off \n",
    "\n",
    "pop_frames = []\n",
    "test_loops = 100\n",
    "for test_iter in tqdm(range(test_loops)): \n",
    "    curr_pop = neat.ask() # ask \n",
    "    grid_img = neat.printSpecies(neat.species, mute=True) # ask : visualize current population species \n",
    "    reward = np.random.rand(len(curr_pop)) # assign random reward values \n",
    "    neat.tell(reward) # tell : assign fitness to current population \n",
    "    pop_frames.append(grid_img)\n",
    "\n",
    "pop_frames[0].save(\"neatspecies.gif\", save_all=True, append_images=pop_frames[1:], duration=100, loop=0) # save frames to gif"
   ]
  },
  {
   "cell_type": "code",
   "execution_count": 11,
   "metadata": {},
   "outputs": [],
   "source": [
    "pop_frames[1].save(\"Neatspecies.gif\", save_all=True, append_images=pop_frames[2:], duration=100, loop=0) # save frames to gif"
   ]
  },
  {
   "cell_type": "code",
   "execution_count": null,
   "metadata": {},
   "outputs": [],
   "source": []
  },
  {
   "cell_type": "markdown",
   "metadata": {},
   "source": [
    "#### Mutation TestBed "
   ]
  },
  {
   "cell_type": "code",
   "execution_count": 2,
   "metadata": {},
   "outputs": [
    {
     "name": "stderr",
     "output_type": "stream",
     "text": [
      "100%|██████████| 40/40 [00:23<00:00,  1.67it/s]\n"
     ]
    }
   ],
   "source": [
    "from fineNeat import viewInd, fig2img, Ind, check_sparse_issue\n",
    "import matplotlib.pyplot as plt \n",
    "from tqdm import tqdm \n",
    "import numpy as np \n",
    "ind = Ind.from_shapes([[12, 10],[10, 10],[10, 3]])\n",
    "frames = []\n",
    "\n",
    "\n",
    "for i in tqdm(range(40)):\n",
    "\n",
    "    connG, nodeG = np.copy(ind.conn), np.copy(ind.node)\n",
    "    connG[3,:] = 1\n",
    "    \n",
    "    # child, _ = ind.createChild(p=hyp, innov=None, gen=i)\n",
    "    connG, nodeG, _ = ind.mutAddNode(connG, nodeG, gen=1, innov=None, p=hyp)\n",
    "    assert check_sparse_issue(nodeG, connG), \"Sparse issue found after mutAddNode\"\n",
    "    childA = Ind(connG, nodeG)\n",
    "    childA.express() \n",
    "    \n",
    "    connG, nodeG, _ = childA.mutSparsity(p=hyp)\n",
    "    assert check_sparse_issue(nodeG, connG), \"Sparse issue found after mutSparsity\"\n",
    "    \n",
    "    # fine_addnode = Ind(connG, nodeG).express()\n",
    "    # connG, nodeG, _ = ind.mutAddConn(connG, nodeG, gen=1, innov=None)\n",
    "    child = Ind(connG, nodeG)\n",
    "    \n",
    "    \n",
    "    if child.express():\n",
    "        fig, ax = viewInd(child)\n",
    "        frames.append(fig2img(fig))\n",
    "        plt.close(fig)\n",
    "        ind = child\n",
    "    else: \n",
    "        print(\"Failed to express child\")\n",
    "\n",
    "# frames[0].save(\"addSparseNode.gif\", save_all=True, append_images=frames[1:], duration=100, loop=0) # save frames to gif"
   ]
  },
  {
   "cell_type": "code",
   "execution_count": 3,
   "metadata": {},
   "outputs": [],
   "source": [
    "frames[0].save(\"addSparseNode.gif\", save_all=True, append_images=frames[1:], duration=100, loop=0) # save frames to gif"
   ]
  },
  {
   "cell_type": "markdown",
   "metadata": {},
   "source": [
    "#### Population TestBed "
   ]
  },
  {
   "cell_type": "code",
   "execution_count": 8,
   "metadata": {},
   "outputs": [],
   "source": [
    "# Test population \n",
    "from fineNeat import Ind \n",
    "import gym\n",
    "\n",
    "env = gym.make(\"SlimeVolley-v0\")\n",
    "\n",
    "population_size = 20\n",
    "population = [Ind.from_shapes([(game.input_size, 5), (5, game.output_size)]) for _ in range(population_size)]"
   ]
  },
  {
   "cell_type": "code",
   "execution_count": null,
   "metadata": {},
   "outputs": [],
   "source": []
  },
  {
   "cell_type": "code",
   "execution_count": null,
   "metadata": {},
   "outputs": [],
   "source": []
  },
  {
   "cell_type": "code",
   "execution_count": null,
   "metadata": {},
   "outputs": [],
   "source": []
  }
 ],
 "metadata": {
  "kernelspec": {
   "display_name": "volleyball",
   "language": "python",
   "name": "python3"
  },
  "language_info": {
   "codemirror_mode": {
    "name": "ipython",
    "version": 3
   },
   "file_extension": ".py",
   "mimetype": "text/x-python",
   "name": "python",
   "nbconvert_exporter": "python",
   "pygments_lexer": "ipython3",
   "version": "3.9.21"
  }
 },
 "nbformat": 4,
 "nbformat_minor": 2
}
