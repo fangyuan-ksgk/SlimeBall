{
 "cells": [
  {
   "cell_type": "code",
   "execution_count": 1,
   "metadata": {},
   "outputs": [
    {
     "name": "stdout",
     "output_type": "stream",
     "text": [
      "\t*** Running with hyperparameters:  p/volley.json \t***\n"
     ]
    }
   ],
   "source": [
    "from neat_src import loadHyp, updateHyp\n",
    "from domain import load_task\n",
    "from neat_src import DataGatherer, Neat \n",
    "from domain.config import games\n",
    "from domain.task_gym import GymTask\n",
    "\n",
    "game = games[\"slimevolley\"]\n",
    "task = GymTask(game)\n",
    "\n",
    "hyp_default = 'p/default_neat.json'\n",
    "hyp_adjust = \"p/volley.json\"\n",
    "fileName = \"volley\"\n",
    "\n",
    "hyp = loadHyp(pFileName=hyp_default, load_task=load_task)\n",
    "updateHyp(hyp,load_task,hyp_adjust)\n",
    "\n",
    "neat = Neat(hyp)"
   ]
  },
  {
   "cell_type": "code",
   "execution_count": 4,
   "metadata": {},
   "outputs": [
    {
     "data": {
      "text/plain": [
       "array([1, 1, 1])"
      ]
     },
     "execution_count": 4,
     "metadata": {},
     "output_type": "execute_result"
    }
   ],
   "source": [
    "task.activations"
   ]
  },
  {
   "cell_type": "markdown",
   "metadata": {},
   "source": [
    "#### Convert Policy model to Ind in Neat "
   ]
  },
  {
   "cell_type": "code",
   "execution_count": 1,
   "metadata": {},
   "outputs": [
    {
     "name": "stderr",
     "output_type": "stream",
     "text": [
      "/var/folders/nn/nbsb8w3570zfgs23h2s0cdzm0000gn/T/ipykernel_73219/869475039.py:26: DeprecationWarning: `product` is deprecated as of NumPy 1.25.0, and will be removed in NumPy 2.0. Please use `prod` instead.\n",
      "  curr_policy = Model(games['slimevolleylite'])\n",
      "/var/folders/nn/nbsb8w3570zfgs23h2s0cdzm0000gn/T/ipykernel_73219/869475039.py:27: DeprecationWarning: `product` is deprecated as of NumPy 1.25.0, and will be removed in NumPy 2.0. Please use `prod` instead.\n",
      "  prev_policy = Model(games['slimevolleylite'])\n"
     ]
    }
   ],
   "source": [
    "import json\n",
    "import numpy as np\n",
    "import gym, os\n",
    "import slimevolleygym\n",
    "import slimevolleygym.mlp as mlp\n",
    "from slimevolleygym.mlp import games as games\n",
    "from slimevolleygym.mlp import Model\n",
    "from slimevolleygym import multiagent_rollout as rollout\n",
    "\n",
    "\n",
    "# Settings\n",
    "random_seed = 612\n",
    "population_size = 128\n",
    "total_tournaments = 500000\n",
    "save_freq = 1000\n",
    "\n",
    "\n",
    "# Log results\n",
    "logdir = \"ga_rotation_je\"\n",
    "if not os.path.exists(logdir):\n",
    "  os.makedirs(logdir)\n",
    "\n",
    "def mutate(param, param_count):\n",
    "  return param + np.random.normal(size=param_count) * 0.1\n",
    "\n",
    "curr_policy = Model(games['slimevolleylite'])\n",
    "prev_policy = Model(games['slimevolleylite'])"
   ]
  },
  {
   "cell_type": "code",
   "execution_count": 3,
   "metadata": {},
   "outputs": [],
   "source": [
    "# curr_policy.shapes\n",
    "shapes = [(3, 2), (2, 1)]"
   ]
  },
  {
   "cell_type": "code",
   "execution_count": 15,
   "metadata": {},
   "outputs": [],
   "source": [
    "# Slime Environment Specific model -> Ind convertion function \n",
    "def initIndiv(shapes): \n",
    "    nodes = [shapes[0][0]] + [s[0] for s in shapes[1:]] + [shapes[-1][-1]]\n",
    "\n",
    "    nodeId = np.arange(0, sum(nodes))\n",
    "    node = np.empty((3, len(nodeId)))\n",
    "    node[0, :] = nodeId\n",
    "    node[1, :] = 3 # Node types: [1:input, 2:output, 3:hidden, 4:bias]\n",
    "    node[1, nodes[0]] = 1 # Input Nodes\n",
    "    node[1, -nodes[-1]:] = 2 # Output Nodes\n",
    "    node[2, :] = 1 # Activations \n",
    "\n",
    "    nConn = sum([t[0]*t[1] for t in curr_policy.shapes])\n",
    "    conn = np.empty((5, nConn))\n",
    "    conn[0, :] = np.arange(0, nConn)\n",
    "\n",
    "    for i, (start, end) in enumerate(shapes): \n",
    "        minimal_id = np.sum([s[0]*s[1] for s in shapes[:i]]).astype(int)\n",
    "        maximal_id = np.sum([s[0]*s[1] for s in shapes[:i+1]]).astype(int)\n",
    "        conn[1, minimal_id:maximal_id] = np.tile(np.arange(0, start), end) + minimal_id\n",
    "        conn[2, minimal_id:maximal_id] = np.repeat(np.arange(0, end), start) + minimal_id + start\n",
    "        \n",
    "        # Layer-wise Weight value \n",
    "        # conn[3, minimal_id:maximal_id] = np.random.randn(curr_policy.weight[i].flatten('F').shape)\n",
    "        # conn[4, minimal_id:maximal_id] = 1\n",
    "\n",
    "    conn[3, :] = np.random.randn(nConn)\n",
    "    conn[4, :] = 1\n",
    "    \n",
    "    return node, conn \n",
    "\n",
    "node, conn = initIndiv(curr_policy.shapes)"
   ]
  },
  {
   "cell_type": "code",
   "execution_count": 12,
   "metadata": {},
   "outputs": [],
   "source": [
    "start, end = shapes[0]\n",
    "start, end\n",
    "\n",
    "i = 0 \n",
    "minimal_id = np.sum([s[0]*s[1] for s in shapes[:i]]).astype(int)\n",
    "maximal_id = np.sum([s[0]*s[1] for s in shapes[:i+1]]).astype(int)\n",
    "conn[1, minimal_id:maximal_id] = np.tile(np.arange(0, start), end) + minimal_id\n",
    "conn[2, minimal_id:maximal_id] = np.repeat(np.arange(0, end), start) + minimal_id + start\n"
   ]
  },
  {
   "cell_type": "code",
   "execution_count": 21,
   "metadata": {},
   "outputs": [
    {
     "data": {
      "text/plain": [
       "True"
      ]
     },
     "execution_count": 21,
     "metadata": {},
     "output_type": "execute_result"
    }
   ],
   "source": [
    "from neat_src import Ind\n",
    "\n",
    "indiv = Ind(conn=conn, node=node)\n",
    "\n",
    "indiv.express()\n",
    "\n",
    "# from neat_src import getNodeOrder\n",
    "# order, wMat = getNodeOrder(node, conn) # Bug: claim that node & conn are not valid ... \n",
    "\n",
    "\n",
    "# individual needs to be converted back into policy model (for slime env use)\n",
    "\n",
    "# indiv.mutAddConn(conn, node, None, 1)"
   ]
  },
  {
   "cell_type": "code",
   "execution_count": 27,
   "metadata": {},
   "outputs": [],
   "source": [
    "# indiv.mutAddNode(indiv.conn, indiv.node, None, 1)\n",
    "# indiv.mutAddConn(indiv.conn, indiv.node, None, 1)"
   ]
  },
  {
   "cell_type": "code",
   "execution_count": 3,
   "metadata": {},
   "outputs": [],
   "source": [
    "nodeG = indiv.node\n",
    "nIns = len(nodeG[0,nodeG[1,:] == 1]) + len(nodeG[0,nodeG[1,:] == 4])\n",
    "nOuts = len(nodeG[0,nodeG[1,:] == 2])"
   ]
  },
  {
   "cell_type": "code",
   "execution_count": 4,
   "metadata": {},
   "outputs": [
    {
     "data": {
      "text/plain": [
       "(13, 3)"
      ]
     },
     "execution_count": 4,
     "metadata": {},
     "output_type": "execute_result"
    }
   ],
   "source": [
    "nIns, nOuts"
   ]
  },
  {
   "cell_type": "code",
   "execution_count": 5,
   "metadata": {},
   "outputs": [
    {
     "data": {
      "text/plain": [
       "(array([[ 0.   ,  1.   ,  2.   , ..., 36.   , 37.   , 38.   ],\n",
       "        [ 0.   ,  1.   ,  2.   , ..., 10.   , 11.   , 12.   ],\n",
       "        [13.   , 13.   , 13.   , ..., 15.   , 15.   , 15.   ],\n",
       "        [-0.921,  0.323, -0.662, ...,  0.255,  1.317, -0.569],\n",
       "        [ 1.   ,  1.   ,  1.   , ...,  1.   ,  1.   ,  1.   ]]),\n",
       " None)"
      ]
     },
     "execution_count": 5,
     "metadata": {},
     "output_type": "execute_result"
    }
   ],
   "source": [
    "indiv.mutAddConn(indiv.conn, indiv.node, None, 1, hyp)\n"
   ]
  },
  {
   "cell_type": "code",
   "execution_count": null,
   "metadata": {},
   "outputs": [],
   "source": []
  }
 ],
 "metadata": {
  "kernelspec": {
   "display_name": "volleyball",
   "language": "python",
   "name": "python3"
  },
  "language_info": {
   "codemirror_mode": {
    "name": "ipython",
    "version": 3
   },
   "file_extension": ".py",
   "mimetype": "text/x-python",
   "name": "python",
   "nbconvert_exporter": "python",
   "pygments_lexer": "ipython3",
   "version": "3.9.21"
  }
 },
 "nbformat": 4,
 "nbformat_minor": 2
}
