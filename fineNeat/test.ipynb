{
 "cells": [
  {
   "cell_type": "markdown",
   "metadata": {},
   "source": [
    "Load HyperParameters"
   ]
  },
  {
   "cell_type": "code",
   "execution_count": 1,
   "metadata": {},
   "outputs": [
    {
     "name": "stdout",
     "output_type": "stream",
     "text": [
      "\t*** Running with hyperparameters:  p/volley.json \t***\n"
     ]
    }
   ],
   "source": [
    "from neat_src import loadHyp, updateHyp\n",
    "from domain import load_task\n",
    "from neat_src import DataGatherer, Neat \n",
    "from domain.config import games\n",
    "from domain.task_gym import GymTask\n",
    "\n",
    "game = games[\"slimevolley\"]\n",
    "task = GymTask(game)\n",
    "\n",
    "hyp_default = 'p/default_neat.json'\n",
    "hyp_adjust = \"p/volley.json\"\n",
    "fileName = \"volley\"\n",
    "\n",
    "hyp = loadHyp(pFileName=hyp_default, load_task=load_task)\n",
    "updateHyp(hyp,load_task,hyp_adjust)\n",
    "\n",
    "# neat = Neat(hyp)"
   ]
  },
  {
   "cell_type": "markdown",
   "metadata": {},
   "source": [
    "#### Convert Policy model to Ind in Neat "
   ]
  },
  {
   "cell_type": "code",
   "execution_count": 2,
   "metadata": {},
   "outputs": [
    {
     "name": "stderr",
     "output_type": "stream",
     "text": [
      "/var/folders/nn/nbsb8w3570zfgs23h2s0cdzm0000gn/T/ipykernel_83916/869475039.py:26: DeprecationWarning: `product` is deprecated as of NumPy 1.25.0, and will be removed in NumPy 2.0. Please use `prod` instead.\n",
      "  curr_policy = Model(games['slimevolleylite'])\n",
      "/var/folders/nn/nbsb8w3570zfgs23h2s0cdzm0000gn/T/ipykernel_83916/869475039.py:27: DeprecationWarning: `product` is deprecated as of NumPy 1.25.0, and will be removed in NumPy 2.0. Please use `prod` instead.\n",
      "  prev_policy = Model(games['slimevolleylite'])\n"
     ]
    }
   ],
   "source": [
    "import json\n",
    "import numpy as np\n",
    "import gym, os\n",
    "import slimevolleygym\n",
    "import slimevolleygym.mlp as mlp\n",
    "from slimevolleygym.mlp import games as games\n",
    "from slimevolleygym.mlp import Model\n",
    "from slimevolleygym import multiagent_rollout as rollout\n",
    "\n",
    "\n",
    "# Settings\n",
    "random_seed = 612\n",
    "population_size = 128\n",
    "total_tournaments = 500000\n",
    "save_freq = 1000\n",
    "\n",
    "\n",
    "# Log results\n",
    "logdir = \"ga_rotation_je\"\n",
    "if not os.path.exists(logdir):\n",
    "  os.makedirs(logdir)\n",
    "\n",
    "def mutate(param, param_count):\n",
    "  return param + np.random.normal(size=param_count) * 0.1\n",
    "\n",
    "curr_policy = Model(games['slimevolleylite'])\n",
    "prev_policy = Model(games['slimevolleylite'])"
   ]
  },
  {
   "cell_type": "markdown",
   "metadata": {},
   "source": [
    "Get mutation using Ind class, then convert back to policy model "
   ]
  },
  {
   "cell_type": "code",
   "execution_count": 9,
   "metadata": {},
   "outputs": [],
   "source": [
    "# Slime Environment Specific model -> Ind convertion function \n",
    "from neat_src import Ind, initIndiv, getNodeOrder, getLayer, LayeredWANN\n",
    "\n",
    "temp_shapes = [(3, 1), (1, 2)] # debug getlayer functional variable \n",
    "node, conn = initIndiv(temp_shapes)\n",
    "indiv = Ind(conn=conn, node=node)\n",
    "indiv.express()\n",
    "\n",
    "connG, nodeG, innov = indiv.mutAddNode(indiv.conn, indiv.node, None, 1, hyp) # add Node mutation \n",
    "# connG, innov = indiv.mutAddConn(indiv.conn, indiv.node, None, 1, hyp) # add Connection mutation \n",
    "\n",
    "# Convert connG & nodeG into policy model \n",
    "# Get shape, weight and bias "
   ]
  },
  {
   "cell_type": "code",
   "execution_count": 10,
   "metadata": {},
   "outputs": [
    {
     "data": {
      "text/plain": [
       "True"
      ]
     },
     "execution_count": 10,
     "metadata": {},
     "output_type": "execute_result"
    }
   ],
   "source": [
    "indiv = Ind(conn=connG, node=nodeG)\n",
    "indiv.express()"
   ]
  },
  {
   "cell_type": "code",
   "execution_count": null,
   "metadata": {},
   "outputs": [],
   "source": []
  },
  {
   "cell_type": "code",
   "execution_count": null,
   "metadata": {},
   "outputs": [],
   "source": []
  },
  {
   "cell_type": "code",
   "execution_count": 14,
   "metadata": {},
   "outputs": [
    {
     "name": "stdout",
     "output_type": "stream",
     "text": [
      "Node layers: {0: 0, 1: 0, 2: 0, 3: 0, 4: 0, 5: 0, 6: 0, 7: 0, 8: 0, 9: 0, 10: 0, 11: 0, 12: 1, 13: 1, 14: 1, 15: 1, 16: 1, 17: 1, 18: 1, 19: 1, 20: 1, 21: 1, 22: 2, 24: 2, 25: 2, 26: 2, 27: 2, 28: 2, 29: 2, 30: 2, 31: 2, 35: 2, 23: 3, 32: 4, 33: 4, 34: 4}\n"
     ]
    }
   ],
   "source": [
    "from neat_src.ind import calculate_layers\n",
    "\n",
    "dag = {\"node\": node[0].astype(int).tolist(), \"edge\": [tuple(c.astype(int)) for c in conn[1:3].T]}\n",
    "layers = calculate_layers(dag)\n",
    "\n",
    "print(\"Node layers:\", layers)"
   ]
  }
 ],
 "metadata": {
  "kernelspec": {
   "display_name": "volleyball",
   "language": "python",
   "name": "python3"
  },
  "language_info": {
   "codemirror_mode": {
    "name": "ipython",
    "version": 3
   },
   "file_extension": ".py",
   "mimetype": "text/x-python",
   "name": "python",
   "nbconvert_exporter": "python",
   "pygments_lexer": "ipython3",
   "version": "3.9.21"
  }
 },
 "nbformat": 4,
 "nbformat_minor": 2
}
