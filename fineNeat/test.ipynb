{
 "cells": [
  {
   "cell_type": "code",
   "execution_count": 1,
   "metadata": {},
   "outputs": [
    {
     "name": "stdout",
     "output_type": "stream",
     "text": [
      "\t*** Running with hyperparameters:  p/volley.json \t***\n"
     ]
    }
   ],
   "source": [
    "from neat_src import loadHyp, updateHyp\n",
    "from domain import load_task\n",
    "from neat_src import DataGatherer, Neat \n",
    "from domain.config import games\n",
    "from domain.task_gym import GymTask\n",
    "\n",
    "game = games[\"slimevolley\"]\n",
    "task = GymTask(game)\n",
    "\n",
    "hyp_default = 'p/default_neat.json'\n",
    "hyp_adjust = \"p/volley.json\"\n",
    "fileName = \"volley\"\n",
    "\n",
    "hyp = loadHyp(pFileName=hyp_default, load_task=load_task)\n",
    "updateHyp(hyp,load_task,hyp_adjust)\n",
    "\n",
    "neat = Neat(hyp)"
   ]
  },
  {
   "cell_type": "code",
   "execution_count": 2,
   "metadata": {},
   "outputs": [],
   "source": [
    "# run the network to test it performance (Bug: things are not moving)\n",
    "pop = neat.ask()\n",
    "indiv = pop[0]\n",
    "task.maxEpisodeLength = 5000\n",
    "# task.testInd(indiv.wVec, indiv.aVec, view=True) # works now"
   ]
  },
  {
   "cell_type": "code",
   "execution_count": 4,
   "metadata": {},
   "outputs": [
    {
     "data": {
      "text/plain": [
       "(array([[ 0.   ,  1.   ,  2.   , ..., 38.   , 39.   , 40.   ],\n",
       "        [ 0.   ,  1.   ,  2.   , ..., 12.   ,  9.   , 16.   ],\n",
       "        [13.   , 13.   , 13.   , ..., 15.   , 16.   , 14.   ],\n",
       "        [-0.921,  0.323, -0.662, ..., -0.569,  1.   , -0.26 ],\n",
       "        [ 1.   ,  1.   ,  1.   , ...,  1.   ,  1.   ,  1.   ]]),\n",
       " array([[ 0.,  1.,  2., ..., 14., 15., 16.],\n",
       "        [ 4.,  1.,  1., ...,  4.,  4.,  3.],\n",
       "        [ 1.,  1.,  1., ...,  1.,  1.,  5.]]),\n",
       " None)"
      ]
     },
     "execution_count": 4,
     "metadata": {},
     "output_type": "execute_result"
    }
   ],
   "source": [
    "\n",
    "indiv.mutAddNode(indiv.conn, indiv.node, None, 1, hyp)"
   ]
  },
  {
   "cell_type": "code",
   "execution_count": 3,
   "metadata": {},
   "outputs": [],
   "source": [
    "nodeG = indiv.node\n",
    "nIns = len(nodeG[0,nodeG[1,:] == 1]) + len(nodeG[0,nodeG[1,:] == 4])\n",
    "nOuts = len(nodeG[0,nodeG[1,:] == 2])"
   ]
  },
  {
   "cell_type": "code",
   "execution_count": 4,
   "metadata": {},
   "outputs": [
    {
     "data": {
      "text/plain": [
       "(13, 3)"
      ]
     },
     "execution_count": 4,
     "metadata": {},
     "output_type": "execute_result"
    }
   ],
   "source": [
    "nIns, nOuts"
   ]
  },
  {
   "cell_type": "code",
   "execution_count": 5,
   "metadata": {},
   "outputs": [
    {
     "data": {
      "text/plain": [
       "(array([[ 0.   ,  1.   ,  2.   , ..., 36.   , 37.   , 38.   ],\n",
       "        [ 0.   ,  1.   ,  2.   , ..., 10.   , 11.   , 12.   ],\n",
       "        [13.   , 13.   , 13.   , ..., 15.   , 15.   , 15.   ],\n",
       "        [-0.921,  0.323, -0.662, ...,  0.255,  1.317, -0.569],\n",
       "        [ 1.   ,  1.   ,  1.   , ...,  1.   ,  1.   ,  1.   ]]),\n",
       " None)"
      ]
     },
     "execution_count": 5,
     "metadata": {},
     "output_type": "execute_result"
    }
   ],
   "source": [
    "indiv.mutAddConn(indiv.conn, indiv.node, None, 1, hyp)\n"
   ]
  },
  {
   "cell_type": "code",
   "execution_count": null,
   "metadata": {},
   "outputs": [],
   "source": []
  }
 ],
 "metadata": {
  "kernelspec": {
   "display_name": "volleyball",
   "language": "python",
   "name": "python3"
  },
  "language_info": {
   "codemirror_mode": {
    "name": "ipython",
    "version": 3
   },
   "file_extension": ".py",
   "mimetype": "text/x-python",
   "name": "python",
   "nbconvert_exporter": "python",
   "pygments_lexer": "ipython3",
   "version": "3.9.21"
  }
 },
 "nbformat": 4,
 "nbformat_minor": 2
}
