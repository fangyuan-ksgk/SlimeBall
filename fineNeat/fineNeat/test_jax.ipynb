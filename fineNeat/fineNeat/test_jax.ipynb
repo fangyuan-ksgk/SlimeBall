{
 "cells": [
  {
   "cell_type": "code",
   "execution_count": 2,
   "metadata": {},
   "outputs": [],
   "source": [
    "from fineNeat import Ind \n",
    "import jax.numpy as jnp\n",
    "import numpy as np \n",
    "\n",
    "ind = Ind.from_shapes([[3,2], [2, 2]])\n",
    "ind.express()\n",
    "\n",
    "# numpy node & conn \n",
    "node = ind.node\n",
    "conn = ind.conn\n",
    "# jax node & conn\n",
    "node_jax = jnp.array(node.tolist())\n",
    "conn_jax = jnp.array(conn.tolist())\n",
    "# util function\n",
    "def check_equal(a: np.array, b: jnp.array):\n",
    "    return np.isclose(a, b.tolist()).all()"
   ]
  },
  {
   "cell_type": "markdown",
   "metadata": {},
   "source": [
    "ann functoinal checks"
   ]
  },
  {
   "cell_type": "code",
   "execution_count": 9,
   "metadata": {},
   "outputs": [
    {
     "name": "stdout",
     "output_type": "stream",
     "text": [
      "check_equal(Q, Q_jax):  True\n",
      "check_equal(wMat, wMat_jax):  True\n",
      "check_equal(layer, layer_jax):  True\n",
      "check_equal(nodeKey, nodeKey_jax):  True\n",
      "check_equal(nodeMap, nodeMap_jax):  True\n",
      "check_equal(nodeInfo, nodeInfo_jax):  True\n",
      "check_equal(act, act_jax):  True\n",
      "check_equal(out_conn, out_conn_jax):  True\n"
     ]
    }
   ],
   "source": [
    "# Test ann jax implementation \n",
    "from fineNeat.sneat_jax.ann import getNodeOrder as getNodeOrder_jax\n",
    "from fineNeat.sneat_jax.ann import getLayer as getLayer_jax\n",
    "from fineNeat.sneat_jax.ann import getNodeKey as getNodeKey_jax\n",
    "from fineNeat.sneat_jax.ann import getNodeMap as getNodeMap_jax\n",
    "from fineNeat.sneat_jax.ann import getNodeInfo as getNodeInfo_jax\n",
    "from fineNeat.sneat_jax.ann import act as act_jax\n",
    "from fineNeat.sneat_jax.ann import obtainOutgoingConnections as obtainOutgoingConnections_jax\n",
    "from fineNeat import getNodeOrder, getLayer, getNodeKey, getNodeMap, getNodeInfo, act, obtainOutgoingConnections\n",
    "\n",
    "# getNodeOrder \n",
    "Q_jax, wMat_jax = getNodeOrder_jax(node_jax, conn_jax)\n",
    "Q, wMat = getNodeOrder(node, conn)\n",
    "print(\"check_equal(Q, Q_jax): \", check_equal(Q, Q_jax))\n",
    "print(\"check_equal(wMat, wMat_jax): \", check_equal(wMat, wMat_jax))\n",
    "\n",
    "# getLayer\n",
    "layer_jax = getLayer_jax(wMat_jax)\n",
    "layer = getLayer(wMat)\n",
    "print(\"check_equal(layer, layer_jax): \", check_equal(layer, layer_jax))\n",
    "\n",
    "# getNodeKey \n",
    "nodeKey_jax = getNodeKey_jax(node_jax, conn_jax)\n",
    "nodeKey = getNodeKey(node, conn)\n",
    "print(\"check_equal(nodeKey, nodeKey_jax): \", check_equal(nodeKey, nodeKey_jax))\n",
    "\n",
    "# getNodeMap \n",
    "nodeMap_jax = getNodeMap_jax(node_jax, conn_jax) # gives bug\n",
    "nodeMap = getNodeMap(node, conn)\n",
    "print(\"check_equal(nodeMap, nodeMap_jax): \", nodeMap == nodeMap_jax)\n",
    "\n",
    "# # getNodeInfo\n",
    "nodeInfo_jax = getNodeInfo_jax(node_jax, conn_jax)\n",
    "nodeInfo = getNodeInfo(node, conn)\n",
    "is_equal = True \n",
    "for v, v_jax in zip(nodeInfo, nodeInfo_jax):\n",
    "    if isinstance(v, dict): \n",
    "        is_equal = is_equal and (v == v_jax)\n",
    "    else: \n",
    "        is_equal = is_equal and check_equal(v, v_jax)\n",
    "print(\"check_equal(nodeInfo, nodeInfo_jax): \", is_equal)\n",
    "\n",
    "# act \n",
    "wMat = ind.wMat\n",
    "aVec = ind.aVec\n",
    "nInput, nOutput = 3, 2\n",
    "input_pattern = np.array([1, 1, 1])\n",
    "input_pattern_jax = jnp.array(input_pattern.tolist())\n",
    "output_jax = act_jax(wMat, aVec, nInput, nOutput, input_pattern_jax)\n",
    "output = act(wMat, aVec, nInput, nOutput, input_pattern)\n",
    "print(\"check_equal(act, act_jax): \", check_equal(output, output_jax))\n",
    "\n",
    "# obtainOutgoingConnections\n",
    "node_id = 1\n",
    "out_conn_jax = obtainOutgoingConnections_jax(wMat, node_id)\n",
    "out_conn = obtainOutgoingConnections(wMat, node_id)\n",
    "print(\"check_equal(out_conn, out_conn_jax): \", check_equal(out_conn, out_conn_jax))\n",
    "\n",
    "\n"
   ]
  },
  {
   "cell_type": "markdown",
   "metadata": {},
   "source": [
    "individual functional checks"
   ]
  },
  {
   "cell_type": "code",
   "execution_count": 50,
   "metadata": {},
   "outputs": [
    {
     "name": "stdout",
     "output_type": "stream",
     "text": [
      "check_equal(node_jax, node):  True\n",
      "check_equal(conn_jax,conn):  True\n",
      "check_equal(ind_jax.nInput, ind.nInput):  True\n",
      "check_equal(ind_jax.nOutput, ind.nOutput):  True\n",
      "check_equal(ind_jax.nBias, ind.nBias):  True\n",
      "check_equal(ind_jax.nHidden, ind.nHidden):  True\n",
      "check_equal(params, params_jax):  False\n",
      "check_equal(nConns, nConns_jax):  True\n",
      "check_equal(ind_jax.wMat, ind.wMat):  False\n",
      "check_equal(ind_jax.aVec, ind.aVec):  True\n",
      "check_equal(ind_jax.wVec, ind.wVec):  False\n",
      "check_equal(ind_jax.nConn, ind.nConn):  True\n",
      "check_equal(ind_jax.max_layer, ind.max_layer):  True\n",
      "check_equal(ind_jax.node_map, ind.node_map):  True\n",
      ":: Safe Mutate Success\n",
      ":: mutAddNode Success\n",
      ":: mutAddConn Success\n",
      ":: mutate Success\n"
     ]
    }
   ],
   "source": [
    "from fineNeat.sneat_jax.ind import initIndiv as initIndiv_jax\n",
    "from fineNeat.sneat_jax.ind import Ind as Ind_jax\n",
    "from fineNeat.neat_src.ind import initIndiv, Ind\n",
    "\n",
    "import numpy as np \n",
    "import jax.numpy as jnp\n",
    "def check_equal(a: np.array, b: jnp.array):\n",
    "    return np.isclose(a, b.tolist()).all()\n",
    "\n",
    "# initIndiv\n",
    "node_jax, conn_jax = initIndiv_jax([[3,2], [2,2], [2, 2]])\n",
    "node, conn = initIndiv([[3,2], [2,2], [2, 2]])\n",
    "print(\"check_equal(node_jax, node): \", check_equal(node_jax, node))\n",
    "print(\"check_equal(conn_jax,conn): \", check_equal(conn_jax[[0,1,2,4],:],conn[[0,1,2,4],:]))\n",
    "\n",
    "# Ind initialization\n",
    "ind_jax = Ind_jax(conn_jax, node_jax)\n",
    "conn = np.array(conn_jax.tolist())\n",
    "ind = Ind(conn, node)\n",
    "print(\"check_equal(ind_jax.nInput, ind.nInput): \", ind_jax.nInput == ind.nInput)\n",
    "print(\"check_equal(ind_jax.nOutput, ind.nOutput): \", ind_jax.nOutput == ind.nOutput)\n",
    "print(\"check_equal(ind_jax.nBias, ind.nBias): \", ind_jax.nBias == ind.nBias)\n",
    "print(\"check_equal(ind_jax.nHidden, ind.nHidden): \", ind_jax.nHidden == ind.nHidden)\n",
    "\n",
    "# to_params \n",
    "params_jax = ind_jax.to_params()\n",
    "params = ind.to_params()\n",
    "param_equal = all([check_equal(w, w_jax) and check_equal(b, b_jax) for (w, b), (w_jax, b_jax) in zip(params, params_jax)])\n",
    "print(\"check_equal(params, params_jax): \", param_equal)\n",
    "\n",
    "# nConns \n",
    "nConns_jax = ind_jax.nConns()\n",
    "nConns = ind.nConns()\n",
    "print(\"check_equal(nConns, nConns_jax): \", nConns == nConns_jax)\n",
    "\n",
    "# express \n",
    "ind_jax.express()\n",
    "ind.express()\n",
    "print(\"check_equal(ind_jax.wMat, ind.wMat): \", check_equal(ind_jax.wMat, ind.wMat))\n",
    "print(\"check_equal(ind_jax.aVec, ind.aVec): \", check_equal(ind_jax.aVec, ind.aVec))\n",
    "print(\"check_equal(ind_jax.wVec, ind.wVec): \", check_equal(ind_jax.wVec, ind.wVec))\n",
    "print(\"check_equal(ind_jax.nConn, ind.nConn): \", ind_jax.nConn == ind.nConn)\n",
    "print(\"check_equal(ind_jax.max_layer, ind.max_layer): \", ind_jax.max_layer == ind.max_layer)\n",
    "print(\"check_equal(ind_jax.node_map, ind.node_map): \", ind_jax.node_map == ind.node_map)\n",
    "\n",
    "# safe mutate :: check if it can be run suffices \n",
    "seed = 1\n",
    "ind_jax.safe_mutate(seed)\n",
    "print(\":: Safe Mutate Success\")\n",
    "\n",
    "# mutAddNode \n",
    "p = {'ann_actRange': [0, 1, 2, 3]}\n",
    "child_conn, child_node, child_innov = ind_jax.mutAddNode(conn_jax, node_jax, None, 0, p, seed)\n",
    "print(\":: mutAddNode Success\")\n",
    "\n",
    "# mutAddConn \n",
    "child_conn, child_node, child_innov = ind_jax.mutAddConn(conn_jax, node_jax, None, 0, p, seed)\n",
    "print(\":: mutAddConn Success\")\n",
    "\n",
    "# mutate :: Issue -- it does not 'disable' connections? \n",
    "p = {'ann_actRange': [0, 1, 2, 3], 'prob_mutConn': 0.5, 'ann_mutSigma': 0.1, 'prob_addNode': 0.5, 'prob_addConn': 0.5, 'prob_enable': 0.5, 'ann_absWCap': 10}\n",
    "ind_jax.mutate(p, seed=seed)\n",
    "print(\":: mutate Success\")"
   ]
  },
  {
   "cell_type": "code",
   "execution_count": 36,
   "metadata": {},
   "outputs": [
    {
     "ename": "AttributeError",
     "evalue": "'Ind' object has no attribute 'order'",
     "output_type": "error",
     "traceback": [
      "\u001b[0;31m---------------------------------------------------------------------------\u001b[0m",
      "\u001b[0;31mAttributeError\u001b[0m                            Traceback (most recent call last)",
      "Cell \u001b[0;32mIn[36], line 5\u001b[0m\n\u001b[1;32m      1\u001b[0m \u001b[38;5;66;03m# Add 'random disable' option for topology mutation \u001b[39;00m\n\u001b[1;32m      2\u001b[0m \u001b[38;5;66;03m# ind.express()\u001b[39;00m\n\u001b[1;32m      3\u001b[0m \u001b[38;5;66;03m# ind.conn\u001b[39;00m\n\u001b[1;32m      4\u001b[0m \u001b[38;5;66;03m# ind.node_map\u001b[39;00m\n\u001b[0;32m----> 5\u001b[0m \u001b[43mind\u001b[49m\u001b[38;5;241;43m.\u001b[39;49m\u001b[43morder\u001b[49m\n",
      "\u001b[0;31mAttributeError\u001b[0m: 'Ind' object has no attribute 'order'"
     ]
    }
   ],
   "source": [
    "# Add 'random disable' option for topology mutation \n",
    "# ind.express()\n",
    "# ind.conn\n",
    "# ind.node_map\n",
    "ind.order"
   ]
  },
  {
   "cell_type": "code",
   "execution_count": 51,
   "metadata": {},
   "outputs": [],
   "source": [
    "ind.node[:,4]\n",
    "# recheck on the ann functionals ... \n",
    "from fineNeat.neat_src.ann import getNodeOrder\n",
    "order, wMat = getNodeOrder(ind.node, ind.conn) # order is [input, bias, output, hidden (topological sorted)]\n",
    "node_idx = -1\n",
    "node_layer = ind.node_map[order[node_idx]][0]\n",
    "\n"
   ]
  },
  {
   "cell_type": "code",
   "execution_count": 55,
   "metadata": {},
   "outputs": [],
   "source": [
    "\n",
    "change_ratio = 0.1\n",
    "sparsity_ratio = 0.8\n",
    "\n",
    "def mutTurnConn(self, connG, nodeG, innov, gen, p = {\"ann_turn_ratio\": 0.1, 'sparsity_ratio': 0.8}): \n",
    "    \"\"\"Turn off/on 'non-essential' connections with probability\"\"\"\n",
    "    nodeMap = getNodeMap(nodeG, connG)\n",
    "    if nodeMap is False:\n",
    "        # print(\":: Failed to get node order\")\n",
    "        return connG, nodeG, innov\n",
    "    \n",
    "    conn = self.conn\n",
    "    node = self.node\n",
    "    \n",
    "    # pick non-essential connections and pick ratio of them to randomize 'on/off' status \n",
    "    start_hidden_node_idx = self.nInput + self.nBias + self.nOutput\n",
    "    non_essential_conn_ids = (conn[1,:] >= start_hidden_node_idx) & (conn[2, :] >= start_hidden_node_idx)\n",
    "\n",
    "    # Randomly select connections to modify based on change_ratio\n",
    "    n_conns = np.sum(non_essential_conn_ids)\n",
    "    n_change = int(n_conns * p['ann_turn_ratio'])\n",
    "    change_mask = np.random.choice(n_conns, size=n_change, replace=False)\n",
    "\n",
    "    # Create array of 1s and 0s based on sparsity ratio\n",
    "    new_states = np.random.binomial(1, 1-p['sparsity_ratio'], size=n_change)\n",
    "\n",
    "    # Update selected connections\n",
    "    update_indices = np.where(non_essential_conn_ids)[0][change_mask]\n",
    "    conn[4, update_indices] = new_states\n",
    "    return conn, node, innov"
   ]
  },
  {
   "cell_type": "code",
   "execution_count": 54,
   "metadata": {},
   "outputs": [
    {
     "data": {
      "text/plain": [
       "array([[ 0.   ,  1.   ,  2.   , ..., 17.   , 18.   , 19.   ],\n",
       "       [ 0.   ,  1.   ,  2.   , ...,  3.   ,  3.   ,  3.   ],\n",
       "       [ 4.   ,  4.   ,  4.   , ...,  7.   ,  8.   ,  9.   ],\n",
       "       [ 0.527, -0.485, -0.297, ...,  0.398,  1.328, -0.291],\n",
       "       [ 1.   ,  1.   ,  1.   , ...,  1.   ,  1.   ,  1.   ]])"
      ]
     },
     "execution_count": 54,
     "metadata": {},
     "output_type": "execute_result"
    }
   ],
   "source": [
    "ind.conn"
   ]
  },
  {
   "cell_type": "code",
   "execution_count": null,
   "metadata": {},
   "outputs": [],
   "source": []
  }
 ],
 "metadata": {
  "kernelspec": {
   "display_name": "volleyball",
   "language": "python",
   "name": "python3"
  },
  "language_info": {
   "codemirror_mode": {
    "name": "ipython",
    "version": 3
   },
   "file_extension": ".py",
   "mimetype": "text/x-python",
   "name": "python",
   "nbconvert_exporter": "python",
   "pygments_lexer": "ipython3",
   "version": "3.9.21"
  }
 },
 "nbformat": 4,
 "nbformat_minor": 2
}
