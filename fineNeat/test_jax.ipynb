{
 "cells": [
  {
   "cell_type": "code",
   "execution_count": 1,
   "metadata": {},
   "outputs": [],
   "source": [
    "from fineNeat import Ind \n",
    "indiv = Ind.from_shapes([[12,4],[4,3]])"
   ]
  },
  {
   "cell_type": "markdown",
   "metadata": {},
   "source": [
    "#### ANN Util Checks"
   ]
  },
  {
   "cell_type": "code",
   "execution_count": 19,
   "metadata": {},
   "outputs": [
    {
     "name": "stdout",
     "output_type": "stream",
     "text": [
      "wMat match: True\n",
      "seq2node match: True\n",
      "order2seq match: True\n",
      "wMat match: True\n",
      "node2order match: True\n",
      "node2seq match: True\n",
      "seq2node match: True\n",
      "layer match: True\n",
      "nodemap match: True\n",
      "seq_node_indices match: True\n",
      "wMat match: True\n",
      "applyAct all_equal: True\n",
      "act match: True\n",
      "obtainOutgoingConnections all_equal: True\n"
     ]
    }
   ],
   "source": [
    "from fineNeat.sneat_jax.ann import getMatOrder as getMatOrder_jax\n",
    "from fineNeat.sneat_jax.ann import calwMat as calwMat_jax\n",
    "from fineNeat.sneat_jax.ann import getMat as getMat_jax\n",
    "from fineNeat.sneat_jax.ann import getLayer as getLayer_jax\n",
    "from fineNeat.sneat_jax.ann import getNodeInfo as getNodeInfo_jax\n",
    "from fineNeat import getMatOrder, getMat, getLayer, getNodeInfo, calwMat\n",
    "\n",
    "import jax.numpy as jnp\n",
    "import numpy as np \n",
    "\n",
    "\n",
    "connG, nodeG = np.copy(indiv.conn), np.copy(indiv.node)\n",
    "connG_jnp, nodeG_jnp = jnp.copy(indiv.conn), jnp.copy(indiv.node)\n",
    "nIns = len(nodeG[0,nodeG[1,:] == 1]) + len(nodeG[0,nodeG[1,:] == 4])\n",
    "nOuts = len(nodeG[0,nodeG[1,:] == 2])\n",
    "\n",
    "# calculate wMat\n",
    "wMat_np, seq2node_np = calwMat(nodeG, connG)\n",
    "wMat_jax, seq2node_jax = calwMat_jax(nodeG_jnp, connG_jnp)\n",
    "print(\"wMat match:\", jnp.allclose(wMat_jax, wMat_np))\n",
    "print(\"seq2node match:\", (seq2node_jax == seq2node_np).all())\n",
    "\n",
    "# getMatOrder\n",
    "order2seq = getMatOrder(nIns, nOuts, wMat_np)\n",
    "order2seq_jax = getMatOrder_jax(nIns, nOuts, wMat_jax)\n",
    "print(\"order2seq match:\", (order2seq_jax == order2seq).all())\n",
    "\n",
    "# getMat \n",
    "wMat_np, node2order_np, node2seq_np, seq2node_np = getMat(nodeG, connG)\n",
    "wMat_jax, node2order_jax, node2seq_jax, seq2node_jax = getMat_jax(nodeG_jnp, connG_jnp)\n",
    "print(\"wMat match:\", jnp.allclose(wMat_jax, wMat_np))\n",
    "print(\"node2order match:\", (node2order_jax == node2order_np))\n",
    "print(\"node2seq match:\", (node2seq_jax == node2seq_np))\n",
    "print(\"seq2node match:\", (seq2node_jax == seq2node_np))\n",
    "\n",
    "# getLayer\n",
    "layer_np = getLayer(wMat_np, node2seq_np, node2order_np, seq2node_np)\n",
    "layer_jax = getLayer_jax(wMat_jax, node2seq_jax, node2order_jax, seq2node_jax)\n",
    "print(\"layer match:\", (layer_jax == layer_np))\n",
    "\n",
    "# getNodeInfo\n",
    "nodemap_np, seq_node_indices_np, wMat_np = getNodeInfo(nodeG, connG)\n",
    "nodemap_jax, seq_node_indices_jax, wMat_jax = getNodeInfo_jax(nodeG_jnp, connG_jnp)\n",
    "print(\"nodemap match:\", (nodemap_jax == nodemap_np))\n",
    "print(\"seq_node_indices match:\", (seq_node_indices_jax == seq_node_indices_np))\n",
    "print(\"wMat match:\", jnp.allclose(wMat_jax, wMat_np))\n",
    "\n",
    "from fineNeat.sneat_jax.ann import act as act_jax\n",
    "from fineNeat.neat_src.ann import act as act_np\n",
    "from fineNeat.sneat_jax.ann import applyAct as applyAct_jax\n",
    "from fineNeat.neat_src.ann import applyAct as applyAct_np\n",
    "\n",
    "indiv.express()\n",
    "aVec_np = np.array(indiv.aVec)\n",
    "aVec_jax = jnp.array(indiv.aVec)\n",
    "inPattern = np.ones((1,nIns))\n",
    "inPattern_jax = jnp.ones((1,nIns))\n",
    "\n",
    "# applyAct \n",
    "is_equals = []\n",
    "for act_id in range(1, 12):\n",
    "    is_equal = abs(applyAct_np(act_id, 1) - applyAct_jax(act_id, 1)) < 1e-6\n",
    "    is_equals.append(is_equal)\n",
    "all_equal = all(is_equals)\n",
    "print(f\"applyAct all_equal: {all_equal}\")\n",
    "\n",
    "# act \n",
    "act_np = act_np(wMat_np, aVec_np, nIns, nOuts, inPattern)\n",
    "act_jax = act_jax(wMat_jax, aVec_jax, nIns, nOuts, inPattern_jax)\n",
    "print(\"act match:\", jnp.allclose(act_jax, act_np))\n",
    "\n",
    "# obtainOutgoingConnections\n",
    "from fineNeat.sneat_jax.ann import obtainOutgoingConnections as obtainOutgoingConnections_jax\n",
    "from fineNeat.neat_src.ann import obtainOutgoingConnections as obtainOutgoingConnections_np\n",
    "is_equals = []\n",
    "for node_id in range(nIns, nIns + nOuts):\n",
    "    is_equal = (obtainOutgoingConnections_np(connG, node_id) == obtainOutgoingConnections_jax(connG_jnp, node_id)).all()\n",
    "    is_equals.append(is_equal)\n",
    "all_equal = all(is_equals)\n",
    "print(f\"obtainOutgoingConnections all_equal: {all_equal}\")"
   ]
  },
  {
   "cell_type": "markdown",
   "metadata": {},
   "source": [
    "### Ind Checks "
   ]
  },
  {
   "cell_type": "code",
   "execution_count": 1,
   "metadata": {},
   "outputs": [],
   "source": [
    "from fineNeat import loadHyp, updateHyp, load_task\n",
    "\n",
    "hyp_default = './fineNeat/p/default_sneat.json'\n",
    "hyp_adjust = './fineNeat/p/volley_default.json'\n",
    "fileName = \"volley\"\n",
    "\n",
    "hyp = loadHyp(pFileName=hyp_default, load_task=load_task)\n",
    "updateHyp(hyp,load_task,hyp_adjust)"
   ]
  },
  {
   "cell_type": "code",
   "execution_count": 2,
   "metadata": {},
   "outputs": [],
   "source": [
    "from fineNeat.sneat_jax.ind import Ind as Ind_jax\n",
    "from fineNeat.neat_src.ind import Ind as Ind_np\n",
    "\n",
    "ind_jax = Ind_jax.from_shapes([[12,4],[4,3]])\n",
    "ind_np = Ind_np.from_shapes([[12,4],[4,3]])\n",
    "\n",
    "# ind_jax.mutate(hyp, seed=0)\n",
    "# ind_np.mutate(hyp)"
   ]
  },
  {
   "cell_type": "code",
   "execution_count": 9,
   "metadata": {},
   "outputs": [
    {
     "name": "stderr",
     "output_type": "stream",
     "text": [
      "100%|██████████| 100/100 [04:20<00:00,  2.60s/it]\n"
     ]
    }
   ],
   "source": [
    "# ind_jax.conn\n",
    "from fineNeat.sneat_jax.ann import getNodeInfo as getNodeInfo_jax\n",
    "from fineNeat.neat_src.ann import getNodeInfo as getNodeInfo_np\n",
    "from fineNeat import viewInd, Ind, fig2img\n",
    "import numpy as np \n",
    "import jax.numpy as jnp\n",
    "import matplotlib.pyplot as plt\n",
    "from tqdm import tqdm\n",
    "\n",
    "# it's not faster ... according to mine implementation here ... \n",
    "frames = []\n",
    "for _ in tqdm(range(100)):\n",
    "    ind_jax.express()\n",
    "    child_jax, _ =ind_jax.mutate(hyp, seed=0)\n",
    "    fig, ax = viewInd(child_jax.to_np())\n",
    "    frames.append(fig2img(fig))\n",
    "    plt.close(fig)\n",
    "    ind_jax = child_jax"
   ]
  },
  {
   "cell_type": "code",
   "execution_count": 10,
   "metadata": {},
   "outputs": [],
   "source": [
    "frames[0].save(\"mutationJax.gif\", save_all=True, append_images=frames[1:], duration=100, loop=0) # save frames to gif"
   ]
  },
  {
   "cell_type": "markdown",
   "metadata": {},
   "source": [
    "#### Experiment with gradient descent with Jax framework \n",
    "- I would like to see the 'speedups' first and foremost ... "
   ]
  },
  {
   "cell_type": "code",
   "execution_count": null,
   "metadata": {},
   "outputs": [],
   "source": [
    "# JIT compile to speed up jax ver. of NEAT ? \n",
    "from functools import partial\n",
    "import jax\n",
    "import jax.numpy as jnp\n",
    "\n",
    "# JIT compile the mutation and expression operations\n",
    "@jax.jit\n",
    "def mutate_and_express(ind, hyp, key):\n",
    "    ind.express()\n",
    "    child, _ = ind.mutate(hyp, key)\n",
    "    return child\n",
    "\n",
    "# Create a batched version for multiple mutations\n",
    "@jax.vmap\n",
    "def batch_mutate(inds, keys):\n",
    "    return mutate_and_express(inds, hyp, keys)\n",
    "\n",
    "# Generate multiple random keys at once\n",
    "keys = jax.random.split(jax.random.PRNGKey(0), 100)\n",
    "\n",
    "# Run mutations in parallel\n",
    "children = batch_mutate(jnp.array([ind_jax] * 100), keys)\n",
    "\n",
    "# If you need to visualize, do it after the computation\n",
    "frames = []\n",
    "for child in children:\n",
    "    fig, ax = viewInd(child.to_np())\n",
    "    frames.append(fig2img(fig))\n",
    "    plt.close(fig)"
   ]
  },
  {
   "cell_type": "code",
   "execution_count": null,
   "metadata": {},
   "outputs": [],
   "source": []
  },
  {
   "cell_type": "code",
   "execution_count": 4,
   "metadata": {},
   "outputs": [
    {
     "name": "stdout",
     "output_type": "stream",
     "text": [
      "wMat match:  True \n",
      "seq2node match:  True\n",
      "order2seq match:  True\n",
      "node2order match:  True \n",
      "node2seq match:  True \n",
      "seq2node match:  True\n",
      "nodemap match:  True \n",
      "seq_node_indices match:  True \n",
      "wMat match:  True\n"
     ]
    }
   ],
   "source": [
    "# np.save(\"connG_np.npy\", connG_np)\n",
    "# np.save(\"nodeG_np.npy\", nodeG_np)\n",
    "import numpy as np \n",
    "import jax.numpy as jnp \n",
    "connG_np = np.load(\"connG_np.npy\")\n",
    "nodeG_np = np.load(\"nodeG_np.npy\")\n",
    "\n",
    "# copy to jax \n",
    "nodeG_jax = jnp.copy(nodeG_np)\n",
    "connG_jax = jnp.copy(connG_np)\n",
    "\n",
    "# debug against getNodeInfo jax & numpy ver. \n",
    "from fineNeat.sneat_jax.ann import getNodeInfo as getNodeInfo_jax\n",
    "from fineNeat.neat_src.ann import getNodeInfo as getNodeInfo_np\n",
    "from fineNeat.sneat_jax.ann import getMat as getMat_jax\n",
    "from fineNeat.neat_src.ann import getMat as getMat_np\n",
    "from fineNeat.sneat_jax.ann import calwMat as calwMat_jax\n",
    "from fineNeat.neat_src.ann import calwMat as calwMat_np\n",
    "from fineNeat.sneat_jax.ann import getMatOrder as getMatOrder_jax\n",
    "from fineNeat.neat_src.ann import getMatOrder as getMatOrder_np\n",
    "\n",
    "# calwMat gives same result ... \n",
    "wMat_jax, seq2node_jax = calwMat_jax(nodeG_jax, connG_jax)\n",
    "wMat_np, seq2node_np = calwMat_np(nodeG_np, connG_np)\n",
    "print(\"wMat match: \", np.isclose(wMat_jax, wMat_np).all().item(), \"\\nseq2node match: \", np.isclose(seq2node_jax, seq2node_np).all().item())\n",
    "\n",
    "# getMatOrder \n",
    "nIns = len(nodeG_jax[0,nodeG_jax[1,:] == 1]) + len(nodeG_jax[0,nodeG_jax[1,:] == 4])\n",
    "nOuts = len(nodeG_jax[0,nodeG_jax[1,:] == 2])\n",
    "order2seq_jax = getMatOrder_jax(nIns, nOuts, wMat_jax)\n",
    "order2seq_np = getMatOrder_np(nIns, nOuts, wMat_np)\n",
    "print(\"order2seq match: \", np.isclose(order2seq_jax, order2seq_np).all().item())\n",
    "\n",
    "# getMat gives different result ...  \n",
    "wMat_jax, node2order_jax, node2seq_jax, seq2node_jax = getMat_jax(nodeG_jax, connG_jax) # mismatch in node2order, seq2node\n",
    "wMat_np, node2order_np, node2seq_np, seq2node_np = getMat_np(nodeG_np, connG_np)\n",
    "print(\"node2order match: \", node2order_jax == node2order_np, \"\\nnode2seq match: \", node2seq_jax == node2seq_np, \"\\nseq2node match: \", (seq2node_jax == seq2node_np))\n",
    "\n",
    "# getNodeInfo \n",
    "nodemap_jax, seq_node_indices_jax, wMat_jax = getNodeInfo_jax(nodeG_jax, connG_jax)\n",
    "nodemap_np, seq_node_indices_np, wMat_np = getNodeInfo_np(nodeG_np, connG_np)\n",
    "print(\"nodemap match: \", nodemap_jax == nodemap_np, \"\\nseq_node_indices match: \", (seq_node_indices_jax == seq_node_indices_np), \"\\nwMat match: \", jnp.isclose(wMat_jax, wMat_np).all().item())"
   ]
  }
 ],
 "metadata": {
  "kernelspec": {
   "display_name": "volleyball",
   "language": "python",
   "name": "python3"
  },
  "language_info": {
   "codemirror_mode": {
    "name": "ipython",
    "version": 3
   },
   "file_extension": ".py",
   "mimetype": "text/x-python",
   "name": "python",
   "nbconvert_exporter": "python",
   "pygments_lexer": "ipython3",
   "version": "3.9.21"
  }
 },
 "nbformat": 4,
 "nbformat_minor": 2
}
